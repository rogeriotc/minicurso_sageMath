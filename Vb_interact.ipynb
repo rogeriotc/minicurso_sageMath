{
 "cells": [
  {
   "cell_type": "markdown",
   "metadata": {
    "slideshow": {
     "slide_type": "slide"
    }
   },
   "source": [
    "# Uma breve introdução ao SageMath | parte V_2\n",
    "***\n",
    "Rogério T. Cavalcanti"
   ]
  },
  {
   "cell_type": "code",
   "execution_count": null,
   "metadata": {
    "slideshow": {
     "slide_type": "skip"
    }
   },
   "outputs": [],
   "source": [
    "%display latex"
   ]
  },
  {
   "cell_type": "markdown",
   "metadata": {
    "slideshow": {
     "slide_type": "slide"
    }
   },
   "source": [
    "## Interact"
   ]
  },
  {
   "cell_type": "markdown",
   "metadata": {
    "slideshow": {
     "slide_type": "slide"
    }
   },
   "source": [
    "Uma funcionalidade interessante é criação funções interativas com o `@interact`"
   ]
  },
  {
   "cell_type": "markdown",
   "metadata": {
    "slideshow": {
     "slide_type": "slide"
    }
   },
   "source": [
    "### 1. Objetos interativos básicos"
   ]
  },
  {
   "cell_type": "markdown",
   "metadata": {
    "slideshow": {
     "slide_type": "slide"
    }
   },
   "source": [
    "#### 1.1 Caixa de entrada"
   ]
  },
  {
   "cell_type": "code",
   "execution_count": null,
   "metadata": {
    "slideshow": {
     "slide_type": "subslide"
    }
   },
   "outputs": [],
   "source": [
    "@interact\n",
    "def nome_Interact(\n",
    "    n = input_box(default = \"\",\n",
    "    label = \"Nome:\",\n",
    "    type = str)):\n",
    "    print(\"Seu nome é \" + n + \"!\")"
   ]
  },
  {
   "cell_type": "markdown",
   "metadata": {
    "slideshow": {
     "slide_type": "slide"
    }
   },
   "source": [
    "#### 1.2 Combo box"
   ]
  },
  {
   "cell_type": "code",
   "execution_count": null,
   "metadata": {
    "slideshow": {
     "slide_type": "subslide"
    }
   },
   "outputs": [],
   "source": [
    "@interact\n",
    "def poligono_Interact(\n",
    "    n = selector(values= [\"Triangulo\", \"Quadrado\", \"Pentagono\", \"outro\"],\n",
    "    label = \"Selecione: \",default = \"Triangulo\" )):\n",
    "    print(\"Selecionado: \", n)"
   ]
  },
  {
   "cell_type": "markdown",
   "metadata": {
    "slideshow": {
     "slide_type": "slide"
    }
   },
   "source": [
    "#### 1.3 Slider"
   ]
  },
  {
   "cell_type": "code",
   "execution_count": null,
   "metadata": {
    "slideshow": {
     "slide_type": "subslide"
    }
   },
   "outputs": [],
   "source": [
    "@interact\n",
    "def primo_interact(\n",
    "    n = slider(vmin=2, vmax=50, step_size=1, default=4, label=\"Deslize: \")):\n",
    "    if(n.is_prime()):\n",
    "        print(n, \"é primo!\")\n",
    "    else:\n",
    "        print(n, \"não é primo!\")"
   ]
  },
  {
   "cell_type": "markdown",
   "metadata": {
    "slideshow": {
     "slide_type": "slide"
    }
   },
   "source": [
    "#### 1.4 check boxes"
   ]
  },
  {
   "cell_type": "code",
   "execution_count": null,
   "metadata": {
    "slideshow": {
     "slide_type": "subslide"
    }
   },
   "outputs": [],
   "source": [
    "@interact\n",
    "def check_interact(\n",
    "check = ('check', True)):\n",
    "    if check:\n",
    "        print('Você escolheu sim')\n",
    "    else:\n",
    "        print('Você escolheu não')"
   ]
  },
  {
   "cell_type": "markdown",
   "metadata": {
    "slideshow": {
     "slide_type": "slide"
    }
   },
   "source": [
    "### 2. Combinando objetos"
   ]
  },
  {
   "cell_type": "code",
   "execution_count": null,
   "metadata": {
    "slideshow": {
     "slide_type": "subslide"
    }
   },
   "outputs": [],
   "source": [
    "@interact\n",
    "def taylor_Interact(\n",
    "    f = input_box(default=tanh(x),label='Função:' ), # input_box\n",
    "    n = slider(vmin=0, vmax=10, step_size=1,\n",
    "    default=3, label=\"Ordem: \"), # slider\n",
    "    x0 = input_box(default=0,label='Ponto '+r'$x_0$' ), #input_box\n",
    "    simplificar = selector(values = [\"Sim\", \"Não\"],\n",
    "    label = \"Simplificar? \",default = \"Não\" )): # selector\n",
    "    if(simplificar == \"Sim\"):\n",
    "        print(f, \" = \" , f.taylor(x, x0, n).full_simplify())\n",
    "    else:\n",
    "        print(f, \" = \" , f.taylor(x, x0, n))"
   ]
  },
  {
   "cell_type": "code",
   "execution_count": null,
   "metadata": {
    "slideshow": {
     "slide_type": "slide"
    }
   },
   "outputs": [],
   "source": [
    "@interact\n",
    "def taylor2_Interact(\n",
    "    f = input_box(default=sinh(x),label='Função:' ),\n",
    "    n = slider(vmin=1, vmax=13, step_size=1,\n",
    "    default=1, label=\"Ordem: \"),\n",
    "    x0 = input_box(default=0,label='Ponto '+r'$x_0$' ),\n",
    "    auto_update=False): #auto_update\n",
    "    pl = plot(f,(x,-2*pi,2*pi))\n",
    "    pl+= plot(f.taylor(x, x0, n),(x,-2*pi,2*pi), color='red')\n",
    "    pl.show()"
   ]
  },
  {
   "cell_type": "code",
   "execution_count": null,
   "metadata": {
    "slideshow": {
     "slide_type": "slide"
    }
   },
   "outputs": [],
   "source": [
    "var('u v b r R')\n",
    "toro = vector([ R*sin(v),(b+r*cos(v))*sin(u), (b+r*cos(v))*cos(u)])\n",
    "esfera = vector([r*sin(v),r*cos(v)*sin(u), r*cos(v)*cos(u)])"
   ]
  },
  {
   "cell_type": "code",
   "execution_count": null,
   "metadata": {
    "slideshow": {
     "slide_type": "slide"
    }
   },
   "outputs": [],
   "source": [
    "@interact\n",
    "def toro_Interact(\n",
    "    b0 = slider(vmin=0, vmax=5, step_size=1,\n",
    "    default=3, label=\"b: \"),\n",
    "    r0 = slider(vmin=0, vmax=5, step_size=1,\n",
    "    default=1, label=\"r: \"),\n",
    "    R0 = slider(vmin=0, vmax=5, step_size=1,\n",
    "    default=1, label=\"R: \"),\n",
    "    superficie = selector(values = [\"Toro\", \"Esfera\"],\n",
    "    label = \"Superfície: \",default = \"Toro\" )#,\n",
    "    #auto_update=False\n",
    "    ):\n",
    "    if superficie is 'Toro':\n",
    "        parametric_plot3d(toro.subs(b=b0,r=r0,R=R0),(u,0,2*pi), (v,0,2*pi),mesh=True, color='grey').rotateY(pi/5).show()\n",
    "    else:\n",
    "        parametric_plot3d(esfera.subs(r=r0),(u,0,2*pi), (v,0,2*pi),mesh=True, color='grey').show()"
   ]
  },
  {
   "cell_type": "code",
   "execution_count": null,
   "metadata": {
    "slideshow": {
     "slide_type": "slide"
    }
   },
   "outputs": [],
   "source": [
    "from sage.plot.plot3d.shapes import *"
   ]
  },
  {
   "cell_type": "code",
   "execution_count": null,
   "metadata": {
    "slideshow": {
     "slide_type": "slide"
    }
   },
   "outputs": [],
   "source": [
    "@interact\n",
    "def bh_Interact(\n",
    "    m0 = slider(vmin=1, vmax=5, step_size=1,\n",
    "    default=3, label=\"M: \"),\n",
    "    th = slider(vmin=0, vmax=pi+.1, step_size=.1,\n",
    "    default=0, label=\"Rotação: \"),\n",
    "    sw_type = selector(values = [\"Shadow1\", \"Shadow2\",'Shadow3'],                  \n",
    "    label = \"Shadow: \",default = \"Shadow1\" ),\n",
    "    disk_type = selector(values = [\"Disco de acreção 1\", \"Disco de acreção 2\"],                  \n",
    "    label = \"Disco: \",default = \"Disco de acreção 1\" ),\n",
    "    check_phsphere = ('Esfera de fótons', False),\n",
    "    check_isco = ('ISCO', False),\n",
    "    check_acr_disk = ('Disco de acreção', False),\n",
    "    check_shadow = ('Shadow', False)\n",
    "    #auto_update=False\n",
    "    ):\n",
    "    horizon = Sphere(2*m0, frame=False, color='black')#.translate(0,0,10*m0)\n",
    "    phsphere = Sphere(3*m0, alpha=.3, color='yellow', mesh=True)#.translate(0,0,10*m0)\n",
    "    isco = circle((0,0,0),6*m0, color='red').rotateX(th)\n",
    "    acr_disk1 = parametric_plot3d(toro.subs(b=11*m0,r=5*m0,R=1*m0),(u,0,2*pi), (v,0,2*pi),mesh=True, color='darkred').rotateY(pi/2).rotateX(th)\n",
    "    acr_disk2 = sum([circle((0,0,0),6*m0*k, color='darkred',thickness=8) for k in srange(1,5,.1)]).rotateX(th)\n",
    "    shadow1 = Sphere(3*sqrt(3)*m0, alpha=.4, color='gray',mesh=True)\n",
    "    shadow2 = circle((0,0,0),3*sqrt(3)*m0,alpha=.5, color='gray',fill=True)#.rotateX(pi/3)#.translate(0,10*m0,10*m0)\n",
    "    shadow3 = circle((0,0,0),3*sqrt(3)*m0,alpha=.5, color='gray',fill=True).rotateX(pi/3).translate(0,10*m0,10*m0)\n",
    "    checks_plt = [[check_phsphere, phsphere], [check_isco, isco],\\\n",
    "              [check_acr_disk, acr_disk1], [check_shadow, shadow1]]\n",
    "    if disk_type != \"Disco de acreção 1\":\n",
    "        checks_plt[2][1] = acr_disk2\n",
    "    if sw_type != \"Shadow1\":\n",
    "        if sw_type != \"Shadow2\":\n",
    "            checks_plt[3][1] = shadow3\n",
    "        else:\n",
    "            checks_plt[3][1] = shadow2\n",
    "    plt = horizon\n",
    "    for objeto in checks_plt:\n",
    "        if objeto[0]:\n",
    "            plt+=objeto[1]\n",
    "\n",
    "    plt.show()"
   ]
  },
  {
   "cell_type": "code",
   "execution_count": null,
   "metadata": {
    "slideshow": {
     "slide_type": "slide"
    }
   },
   "outputs": [],
   "source": [
    "@interact\n",
    "def kerr_Interact(\n",
    "    dim = selector(values = [\"2D\", \"3D\"],                  \n",
    "    label = \"Dimensão: \",default = \"2D\" ),\n",
    "    a = slider(vmin=0, vmax=1, step_size=.05,\n",
    "    default=.5, label=\"a: \")):\n",
    "    m0 = 1\n",
    "    r_h = m0-sqrt(m0**2-a**2)\n",
    "    r_H = m0+sqrt(m0**2-a**2)\n",
    "    r_e = m0+sqrt(m0**2-a**2*sin(u)**2)\n",
    "    if dim == \"2D\":\n",
    "        plt = polar_plot(r_e,u,-pi,pi,color='red')+circle((0,0), r_H,fill=True,color=(0,102/256,204/256))+circle((0,0),r_h,fill=True,color='black')\n",
    "        plt.show(axes=False)\n",
    "    else:\n",
    "        plt = revolution_plot3d((r_e*cos(u),r_e*sin(u)), (u,-pi,pi), show_curve=True, opacity=0,mesh=True)\n",
    "        plt+= Sphere(r_h, color='black')\n",
    "        plt+= Sphere(r_H, color=(0,102/256,204/256),alpha=.6)\n",
    "        plt.show(frame=False)"
   ]
  },
  {
   "cell_type": "markdown",
   "metadata": {
    "slideshow": {
     "slide_type": "slide"
    }
   },
   "source": [
    "## FIM"
   ]
  }
 ],
 "metadata": {
  "kernelspec": {
   "display_name": "SageMath 9.1",
   "language": "sage",
   "name": "sagemath"
  },
  "language_info": {
   "codemirror_mode": {
    "name": "ipython",
    "version": 3
   },
   "file_extension": ".py",
   "mimetype": "text/x-python",
   "name": "python",
   "nbconvert_exporter": "python",
   "pygments_lexer": "ipython3",
   "version": "3.7.3"
  },
  "rise": {
   "enable_chalkboard": true,
   "scroll": true,
   "start_slideshow_at": "beginning"
  }
 },
 "nbformat": 4,
 "nbformat_minor": 2
}
