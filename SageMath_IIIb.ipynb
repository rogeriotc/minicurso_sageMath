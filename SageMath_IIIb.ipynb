{
 "cells": [
  {
   "cell_type": "markdown",
   "metadata": {
    "slideshow": {
     "slide_type": "slide"
    }
   },
   "source": [
    "# Uma breve introdução ao SageMath | parte III_2\n",
    "***\n",
    "Rogério T. Cavalcanti"
   ]
  },
  {
   "cell_type": "markdown",
   "metadata": {
    "slideshow": {
     "slide_type": "fragment"
    }
   },
   "source": [
    "# Jupyter Notebook"
   ]
  },
  {
   "cell_type": "markdown",
   "metadata": {
    "slideshow": {
     "slide_type": "slide"
    }
   },
   "source": [
    "## Células\n",
    "\n",
    "Os dois tipos principais de célula são `code` e `markdown`. "
   ]
  },
  {
   "cell_type": "markdown",
   "metadata": {
    "slideshow": {
     "slide_type": "fragment"
    }
   },
   "source": [
    "Em ambos os casos, `SHIFT+ENTER` executa o conteúdo da célula e cria uma célula abaixo (se ainda não existir uma)."
   ]
  },
  {
   "cell_type": "markdown",
   "metadata": {
    "slideshow": {
     "slide_type": "subslide"
    }
   },
   "source": [
    "1. Nas células do tipo Markdown podemos colocar:\n",
    "\n",
    "    * texto com formatação markdown\n",
    "    * HTML\n",
    "    * LaTeX\n",
    "    * images"
   ]
  },
  {
   "cell_type": "markdown",
   "metadata": {
    "slideshow": {
     "slide_type": "fragment"
    }
   },
   "source": [
    "2. Nas células de códico ficam os códigos do Sage, Python, ou da linguagem que você estiver utilizando."
   ]
  },
  {
   "cell_type": "markdown",
   "metadata": {
    "slideshow": {
     "slide_type": "slide"
    }
   },
   "source": [
    "## Modos\n",
    "\n",
    "Existem dois modos para as células, o `modo de comando` e o `modo de edição`. "
   ]
  },
  {
   "cell_type": "markdown",
   "metadata": {
    "slideshow": {
     "slide_type": "fragment"
    }
   },
   "source": [
    "Você identifica o mode pela cor da moldura em volda da célula. "
   ]
  },
  {
   "cell_type": "markdown",
   "metadata": {
    "slideshow": {
     "slide_type": "fragment"
    }
   },
   "source": [
    "Azul para modo de comando e verde para modo de edição."
   ]
  },
  {
   "cell_type": "markdown",
   "metadata": {
    "slideshow": {
     "slide_type": "subslide"
    }
   },
   "source": [
    "No modo de edição você altera e executa o conteúdo de uma célula."
   ]
  },
  {
   "cell_type": "markdown",
   "metadata": {
    "slideshow": {
     "slide_type": "fragment"
    }
   },
   "source": [
    "No modo de comando você edita o notebook em si. Como inseir ou deleta células e alterar o seu tipo, usando atalhos do teclado. "
   ]
  },
  {
   "cell_type": "markdown",
   "metadata": {
    "slideshow": {
     "slide_type": "fragment"
    }
   },
   "source": [
    "Você pode entrar no modo de comando com a tecla `ESC` e no modo de edição com o `ENTER`."
   ]
  },
  {
   "cell_type": "markdown",
   "metadata": {
    "slideshow": {
     "slide_type": "slide"
    }
   },
   "source": [
    "## Atalhos do teclado\n",
    "\n",
    "Várias funções da barra de ferramentas podem ser acessádas mais rápidamente usando atalhos do teclado no `modo de comando`."
   ]
  },
  {
   "cell_type": "markdown",
   "metadata": {
    "slideshow": {
     "slide_type": "subslide"
    }
   },
   "source": [
    "#### Abaixo está uma pequena lista.\n",
    "\n",
    "| Ação | Atalho |\n",
    "| :---: | :---: |\n",
    "| nova célula acima | `a` |\n",
    "| nova célula abaixo | `b` |\n",
    "| celula do tipo códico | `y` |\n",
    "| celula do tipo markdown | `m` |\n",
    "| salvar | `s` |\n",
    "| executar a célula | `SHIFT+ENTER` |\n",
    "| modo edição | `ENTER` |\n",
    "| modo de comando | `ESC` |"
   ]
  },
  {
   "cell_type": "markdown",
   "metadata": {
    "slideshow": {
     "slide_type": "fragment"
    }
   },
   "source": [
    "[Site oficial](http://jupyter.org) do Jupyter"
   ]
  },
  {
   "cell_type": "markdown",
   "metadata": {
    "slideshow": {
     "slide_type": "slide"
    }
   },
   "source": [
    "## Apresentações com o RISE"
   ]
  },
  {
   "cell_type": "markdown",
   "metadata": {
    "slideshow": {
     "slide_type": "fragment"
    }
   },
   "source": [
    "Para instalar o [RISE](https://rise.readthedocs.io/en/stable/) e criar apresentações usando o SageMath, no terminla digite o comando:\n",
    "\n",
    "`sage -pip install RISE`"
   ]
  },
  {
   "cell_type": "markdown",
   "metadata": {
    "slideshow": {
     "slide_type": "fragment"
    }
   },
   "source": [
    "Isso fará com que um botão na barra de ferramentas."
   ]
  },
  {
   "cell_type": "markdown",
   "metadata": {
    "slideshow": {
     "slide_type": "fragment"
    }
   },
   "source": [
    "Ao clicar nele você entra no modo apresentação."
   ]
  },
  {
   "cell_type": "markdown",
   "metadata": {
    "slideshow": {
     "slide_type": "subslide"
    }
   },
   "source": [
    "A organização dos slides é bem simples e está descrita [aqui](https://rise.readthedocs.io/en/stable/usage.html), ou [nesse vídeo](https://youtu.be/sXyFa_r1nxA)."
   ]
  },
  {
   "cell_type": "markdown",
   "metadata": {
    "slideshow": {
     "slide_type": "fragment"
    }
   },
   "source": [
    "## FIM"
   ]
  }
 ],
 "metadata": {
  "kernelspec": {
   "display_name": "SageMath 9.1",
   "language": "sage",
   "name": "sagemath"
  },
  "language_info": {
   "codemirror_mode": {
    "name": "ipython",
    "version": 3
   },
   "file_extension": ".py",
   "mimetype": "text/x-python",
   "name": "python",
   "nbconvert_exporter": "python",
   "pygments_lexer": "ipython3",
   "version": "3.7.3"
  }
 },
 "nbformat": 4,
 "nbformat_minor": 2
}
