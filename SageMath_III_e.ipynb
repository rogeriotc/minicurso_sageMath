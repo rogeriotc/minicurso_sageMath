{
 "cells": [
  {
   "cell_type": "markdown",
   "metadata": {
    "slideshow": {
     "slide_type": "slide"
    }
   },
   "source": [
    "\n",
    "# Uma breve introdução ao SageMath | parte III_extra\n",
    "***\n",
    "Rogério T. Cavalcanti"
   ]
  },
  {
   "cell_type": "markdown",
   "metadata": {
    "slideshow": {
     "slide_type": "slide"
    }
   },
   "source": [
    "## Alguns problemas de geometria."
   ]
  },
  {
   "cell_type": "code",
   "execution_count": null,
   "metadata": {
    "slideshow": {
     "slide_type": "skip"
    }
   },
   "outputs": [],
   "source": [
    "reset()\n",
    "%display latex"
   ]
  },
  {
   "cell_type": "markdown",
   "metadata": {
    "slideshow": {
     "slide_type": "fragment"
    }
   },
   "source": [
    "### Toro\n",
    "1. Dada a parametrização do toro no espaço Euclideano, $\\textbf{T}(u,v)=\\left((a+R\\cos v)\\cos u,(a+R\\cos v)\\sin u, R\\sin v\\right),$ com $0 \\leq u,v < 2\\pi$ e $a,R$ constantes. Determine:  \n",
    "\n",
    "    a) Os vetores tangentes $\\textbf{T}_u$ e $\\textbf{T}_v$;\n",
    "\n",
    "    b) As componentes da métrica $g_{ij}$;\n",
    "\n",
    "    c) A área do Toro;\n"
   ]
  },
  {
   "cell_type": "markdown",
   "metadata": {
    "slideshow": {
     "slide_type": "slide"
    }
   },
   "source": [
    "#### Resolução"
   ]
  },
  {
   "cell_type": "markdown",
   "metadata": {
    "slideshow": {
     "slide_type": "fragment"
    }
   },
   "source": [
    "Parametrização do toro"
   ]
  },
  {
   "cell_type": "code",
   "execution_count": null,
   "metadata": {
    "slideshow": {
     "slide_type": "fragment"
    }
   },
   "outputs": [],
   "source": [
    "var('u,v,a,R')\n",
    "assume(R>0,a>0,a>R) # assume algumas restrições sobre os parâmetros\n",
    "Toro = vector(((a+R*cos(v))*cos(u),(a+R*cos(v))*sin(u),R*sin(v)))"
   ]
  },
  {
   "cell_type": "code",
   "execution_count": null,
   "metadata": {
    "slideshow": {
     "slide_type": "subslide"
    }
   },
   "outputs": [],
   "source": [
    "parametric_plot3d(Toro.subs(a=3,R=1),(u,0,2*pi),(v,0,2*pi),frame=False, mesh=True)"
   ]
  },
  {
   "cell_type": "markdown",
   "metadata": {
    "slideshow": {
     "slide_type": "slide"
    }
   },
   "source": [
    "#### item a) \n",
    "Os vetores tangentes $\\textbf{T}_u$ e $\\textbf{T}_v$"
   ]
  },
  {
   "cell_type": "code",
   "execution_count": null,
   "metadata": {
    "slideshow": {
     "slide_type": "fragment"
    }
   },
   "outputs": [],
   "source": [
    "T_u = Toro.diff(u)\n",
    "T_v = Toro.diff(v)\n",
    "display(T_u)\n",
    "display(T_v)"
   ]
  },
  {
   "cell_type": "markdown",
   "metadata": {
    "slideshow": {
     "slide_type": "subslide"
    }
   },
   "source": [
    "#### item b)\n",
    "As componentes da métrica $g_{ij}$"
   ]
  },
  {
   "cell_type": "code",
   "execution_count": null,
   "metadata": {
    "slideshow": {
     "slide_type": "fragment"
    }
   },
   "outputs": [],
   "source": [
    "g11 = T_u.dot_product(T_u).full_simplify().factor()\n",
    "g12 = T_u.dot_product(T_v).full_simplify()\n",
    "g21 = T_v.dot_product(T_u).full_simplify()\n",
    "g22 = T_v.dot_product(T_v).full_simplify()\n",
    "g_Toro = matrix([[g11,g12],[g21,g22]]); g_Toro"
   ]
  },
  {
   "cell_type": "markdown",
   "metadata": {
    "slideshow": {
     "slide_type": "subslide"
    }
   },
   "source": [
    "#### item c)\n",
    "A área do Toro"
   ]
  },
  {
   "cell_type": "markdown",
   "metadata": {
    "slideshow": {
     "slide_type": "fragment"
    }
   },
   "source": [
    "Primeiro calcularemos o elemento de área $\\sqrt{\\det(g)}$"
   ]
  },
  {
   "cell_type": "code",
   "execution_count": null,
   "metadata": {
    "slideshow": {
     "slide_type": "fragment"
    }
   },
   "outputs": [],
   "source": [
    "elem_area = sqrt(det(g_Toro)); elem_area"
   ]
  },
  {
   "cell_type": "markdown",
   "metadata": {
    "slideshow": {
     "slide_type": "subslide"
    }
   },
   "source": [
    "$$\\text{Área } = \\int_{u_{min}}^{u_{max}}\\int_{v_{min}}^{v_{max}} \\sqrt{\\det(g)} dudv $$"
   ]
  },
  {
   "cell_type": "code",
   "execution_count": null,
   "metadata": {
    "scrolled": true,
    "slideshow": {
     "slide_type": "fragment"
    }
   },
   "outputs": [],
   "source": [
    "elem_area.integral(v,0,2*pi).integrate(u,0,2*pi)"
   ]
  },
  {
   "cell_type": "markdown",
   "metadata": {
    "slideshow": {
     "slide_type": "slide"
    }
   },
   "source": [
    "### Imersão de de Sitter em Minkowski"
   ]
  },
  {
   "cell_type": "markdown",
   "metadata": {
    "slideshow": {
     "slide_type": "subslide"
    }
   },
   "source": [
    "2. Dada $\\textbf{H}(u,v)=\\left(\\sinh u,\\cosh u\\cos v, \\cosh u\\sin v, k\\right)$, com $-\\infty < u < \\infty$, $-\\pi < v < \\pi$ e $k$ constante, a parametrização de uma fatia (1+1)-dimensional do espaço-tempo de de Sitter imerso no espaço-tempo de Minkoswki $\\mathbb{M}=\\mathbb{R}^{1,3}$. Determine:  \n",
    "\n",
    "    a) Os vetores tangentes $\\textbf{H}_u$ e $\\textbf{H}_v$;\n",
    "    \n",
    "    b) As componentes da métrica $g_{ij}$;\n",
    "\n",
    "    c) Considere a curva $\\beta(t)=[u(t),v(t)]=(t,\\text{sech } t)$. Mostre que, na superfície, $\\beta(t)$ é do tipo tempo $\\forall t \\in \\mathbb{R}$;\n",
    " \n",
    "    d) Mostre que o comprimento da curva do item anterior, no intervalo $0\\,<\\,t\\,<\\,\\infty$, é  $\\displaystyle \\frac{\\pi}{2}$."
   ]
  },
  {
   "cell_type": "markdown",
   "metadata": {
    "slideshow": {
     "slide_type": "slide"
    }
   },
   "source": [
    "#### Resolução"
   ]
  },
  {
   "cell_type": "markdown",
   "metadata": {
    "slideshow": {
     "slide_type": "fragment"
    }
   },
   "source": [
    "Parametrização"
   ]
  },
  {
   "cell_type": "code",
   "execution_count": null,
   "metadata": {
    "slideshow": {
     "slide_type": "fragment"
    }
   },
   "outputs": [],
   "source": [
    "var('k')\n",
    "H(u,v) = (sinh(u),cosh(u)*cos(v),cosh(u)*sin(v),k)"
   ]
  },
  {
   "cell_type": "code",
   "execution_count": null,
   "metadata": {
    "slideshow": {
     "slide_type": "subslide"
    }
   },
   "outputs": [],
   "source": [
    "plt_H = parametric_plot3d(H[:3],(u,-3,3),(v,-pi,pi),color=\"gray\",frame=False, mesh=True); plt_H"
   ]
  },
  {
   "cell_type": "markdown",
   "metadata": {
    "slideshow": {
     "slide_type": "slide"
    }
   },
   "source": [
    "#### item a)\n",
    "Os vetores tangentes $\\textbf{H}_u$ e $\\textbf{H}_v$"
   ]
  },
  {
   "cell_type": "code",
   "execution_count": null,
   "metadata": {
    "slideshow": {
     "slide_type": "fragment"
    }
   },
   "outputs": [],
   "source": [
    "H_u = H.diff(u)\n",
    "H_v = H.diff(v)\n",
    "display(H_u)\n",
    "display(H_v)"
   ]
  },
  {
   "cell_type": "markdown",
   "metadata": {
    "slideshow": {
     "slide_type": "subslide"
    }
   },
   "source": [
    "#### item b)\n",
    "As componentes da métrica $g_{ij}$"
   ]
  },
  {
   "cell_type": "markdown",
   "metadata": {
    "slideshow": {
     "slide_type": "fragment"
    }
   },
   "source": [
    "Para encontrar as componentes da métrica da superfície precisamos considerar a métrica do espaço de Minkowski, já que $g_{ij}=\\eta(H_i,H_j)$. Para isso vamos construir o espaço de Minkowski $\\mathbb{M} = \\mathbb{R}^{1,3}$.  "
   ]
  },
  {
   "cell_type": "code",
   "execution_count": null,
   "metadata": {
    "slideshow": {
     "slide_type": "fragment"
    }
   },
   "outputs": [],
   "source": [
    "eta = matrix([[-1,0,0,0],[0,1,0,0],[0,0,1,0],[0,0,0,1]]);eta"
   ]
  },
  {
   "cell_type": "code",
   "execution_count": null,
   "metadata": {
    "slideshow": {
     "slide_type": "subslide"
    }
   },
   "outputs": [],
   "source": [
    "M = VectorSpace(SR, 4, inner_product_matrix=eta);"
   ]
  },
  {
   "cell_type": "code",
   "execution_count": null,
   "metadata": {
    "slideshow": {
     "slide_type": "skip"
    }
   },
   "outputs": [],
   "source": [
    "M.inner_product_matrix()"
   ]
  },
  {
   "cell_type": "markdown",
   "metadata": {
    "slideshow": {
     "slide_type": "fragment"
    }
   },
   "source": [
    "Com isso podemos definir $\\textbf{H}_u$ e $\\textbf{H}_v$ como elementos de $\\mathbb{M}$"
   ]
  },
  {
   "cell_type": "code",
   "execution_count": null,
   "metadata": {
    "slideshow": {
     "slide_type": "fragment"
    }
   },
   "outputs": [],
   "source": [
    "H_u = M(H_u) # constroi H_u como elemento do espaço vetorial M"
   ]
  },
  {
   "cell_type": "code",
   "execution_count": null,
   "metadata": {
    "slideshow": {
     "slide_type": "fragment"
    }
   },
   "outputs": [],
   "source": [
    "H_v = M(H_v)"
   ]
  },
  {
   "cell_type": "markdown",
   "metadata": {
    "slideshow": {
     "slide_type": "subslide"
    }
   },
   "source": [
    "Com isso podemos obter a métrica"
   ]
  },
  {
   "cell_type": "code",
   "execution_count": null,
   "metadata": {
    "slideshow": {
     "slide_type": "fragment"
    }
   },
   "outputs": [],
   "source": [
    "gh11 = H_u.inner_product(H_u).full_simplify()\n",
    "gh12 = H_u.inner_product(H_v).full_simplify()\n",
    "gh21 = H_v.inner_product(H_u).full_simplify()\n",
    "gh22 = H_v.inner_product(H_v).full_simplify()\n",
    "g_H = matrix([[gh11,gh12],[gh21,gh22]])\n",
    "g_H"
   ]
  },
  {
   "cell_type": "markdown",
   "metadata": {
    "slideshow": {
     "slide_type": "slide"
    }
   },
   "source": [
    "### item c)\n",
    "Considere a curva $\\beta(t)=[u(t),v(t)]=(t,\\text{sech } t)$. Mostre que, na superfície, $\\beta(t)$ é do tipo tempo $\\forall t \\in \\mathbb{R}$"
   ]
  },
  {
   "cell_type": "markdown",
   "metadata": {
    "slideshow": {
     "slide_type": "fragment"
    }
   },
   "source": [
    "Podemos definir $\\beta(t)$ diretamente na superfície, compondo com a parametrização $\\textbf{H}(u,v)$."
   ]
  },
  {
   "cell_type": "code",
   "execution_count": null,
   "metadata": {
    "slideshow": {
     "slide_type": "fragment"
    }
   },
   "outputs": [],
   "source": [
    "var('t')\n",
    "beta = H(t, sech(t)); beta"
   ]
  },
  {
   "cell_type": "code",
   "execution_count": null,
   "metadata": {
    "slideshow": {
     "slide_type": "fragment"
    }
   },
   "outputs": [],
   "source": [
    "plt_beta = parametric_plot3d(beta[:3], (-.95*pi,.95*pi),color='red',thickness=3)"
   ]
  },
  {
   "cell_type": "code",
   "execution_count": null,
   "metadata": {
    "slideshow": {
     "slide_type": "subslide"
    }
   },
   "outputs": [],
   "source": [
    "plt_H+plt_beta"
   ]
  },
  {
   "cell_type": "markdown",
   "metadata": {
    "slideshow": {
     "slide_type": "subslide"
    }
   },
   "source": [
    "Para verificar se $\\beta(t)$ é do tipo tempo definiremos seu vetor tangente $\\beta'(t)$ como elemento do espaço de Minkowski"
   ]
  },
  {
   "cell_type": "code",
   "execution_count": null,
   "metadata": {
    "slideshow": {
     "slide_type": "fragment"
    }
   },
   "outputs": [],
   "source": [
    "t_beta = M(beta.diff(t));"
   ]
  },
  {
   "cell_type": "markdown",
   "metadata": {
    "slideshow": {
     "slide_type": "fragment"
    }
   },
   "source": [
    "E calculamos $\\eta(\\beta'(t),\\beta'(t))$"
   ]
  },
  {
   "cell_type": "code",
   "execution_count": null,
   "metadata": {
    "slideshow": {
     "slide_type": "fragment"
    }
   },
   "outputs": [],
   "source": [
    "t_beta_quad = t_beta.inner_product(t_beta).full_simplify()"
   ]
  },
  {
   "cell_type": "code",
   "execution_count": null,
   "metadata": {
    "slideshow": {
     "slide_type": "fragment"
    }
   },
   "outputs": [],
   "source": [
    "t_beta_quad"
   ]
  },
  {
   "cell_type": "markdown",
   "metadata": {
    "slideshow": {
     "slide_type": "fragment"
    }
   },
   "source": [
    "Logo $\\beta(t)$ é do tipo tempo $\\forall t \\in \\mathbb{R}$."
   ]
  },
  {
   "cell_type": "markdown",
   "metadata": {
    "slideshow": {
     "slide_type": "slide"
    }
   },
   "source": [
    "### item d)\n",
    "Mostre que o comprimento da curva do item anterior, no intervalo $0\\,<\\,t\\,<\\,\\infty$, é  $\\displaystyle \\frac{\\pi}{2}$"
   ]
  },
  {
   "cell_type": "markdown",
   "metadata": {
    "slideshow": {
     "slide_type": "fragment"
    }
   },
   "source": [
    "O comprimento da curva é dado por $$L_\\beta = \\int_0^\\infty \\sqrt{-\\eta\\left(\\beta',\\beta'\\right)}dt=\\int_0^\\infty \\sqrt{-\\eta_{\\mu\\nu}\\frac{d\\beta^\\mu}{dt}\\frac{d\\beta^\\nu}{dt}}dt$$"
   ]
  },
  {
   "cell_type": "code",
   "execution_count": null,
   "metadata": {
    "scrolled": true,
    "slideshow": {
     "slide_type": "fragment"
    }
   },
   "outputs": [],
   "source": [
    "sqrt(-t_beta_quad).integrate(t,0,oo)"
   ]
  },
  {
   "cell_type": "code",
   "execution_count": null,
   "metadata": {
    "slideshow": {
     "slide_type": "subslide"
    }
   },
   "outputs": [],
   "source": [
    "plot(sqrt(-t_beta_quad), (t,0,8) ,aspect_ratio=1)"
   ]
  },
  {
   "cell_type": "markdown",
   "metadata": {
    "slideshow": {
     "slide_type": "slide"
    }
   },
   "source": [
    "## FIM"
   ]
  }
 ],
 "metadata": {
  "kernelspec": {
   "display_name": "SageMath 9.1",
   "language": "sage",
   "name": "sagemath"
  },
  "language_info": {
   "codemirror_mode": {
    "name": "ipython",
    "version": 3
   },
   "file_extension": ".py",
   "mimetype": "text/x-python",
   "name": "python",
   "nbconvert_exporter": "python",
   "pygments_lexer": "ipython3",
   "version": "3.7.3"
  }
 },
 "nbformat": 4,
 "nbformat_minor": 2
}
