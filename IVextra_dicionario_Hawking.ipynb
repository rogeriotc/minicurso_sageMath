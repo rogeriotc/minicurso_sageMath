{
 "cells": [
  {
   "cell_type": "markdown",
   "metadata": {
    "slideshow": {
     "slide_type": "slide"
    }
   },
   "source": [
    "# Uma breve introdução ao SageMath | parte IV_extra\n",
    "***\n",
    "Rogério T. Cavalcanti"
   ]
  },
  {
   "cell_type": "markdown",
   "metadata": {
    "slideshow": {
     "slide_type": "slide"
    }
   },
   "source": [
    "## Temperatura Hawking e dicionários"
   ]
  },
  {
   "cell_type": "markdown",
   "metadata": {
    "slideshow": {
     "slide_type": "slide"
    }
   },
   "source": [
    "### 1. $T_H$ e unidades do SI"
   ]
  },
  {
   "cell_type": "code",
   "execution_count": null,
   "metadata": {
    "slideshow": {
     "slide_type": "skip"
    }
   },
   "outputs": [],
   "source": [
    "reset()\n",
    "%display latex"
   ]
  },
  {
   "cell_type": "code",
   "execution_count": null,
   "metadata": {
    "slideshow": {
     "slide_type": "fragment"
    }
   },
   "outputs": [],
   "source": [
    "c_planck = var('c_planck', latex_name = r'\\hslash')\n",
    "var('k_B kappa c')\n",
    "assume(c_planck>0,k_B>0,c>0)\n",
    "T_Hawking = 1/k_B*c_planck*kappa/(2*pi);T_Hawking"
   ]
  },
  {
   "cell_type": "markdown",
   "metadata": {
    "slideshow": {
     "slide_type": "subslide"
    }
   },
   "source": [
    "Tomando $\\hslash=k_B=1$"
   ]
  },
  {
   "cell_type": "code",
   "execution_count": null,
   "metadata": {
    "slideshow": {
     "slide_type": "fragment"
    }
   },
   "outputs": [],
   "source": [
    "T_Hawking.subs(c_planck=1,k_B=1)"
   ]
  },
  {
   "cell_type": "markdown",
   "metadata": {
    "slideshow": {
     "slide_type": "slide"
    }
   },
   "source": [
    "Usaremos um dicionário para as constantes em unidades do SI "
   ]
  },
  {
   "cell_type": "code",
   "execution_count": null,
   "metadata": {
    "slideshow": {
     "slide_type": "fragment"
    }
   },
   "outputs": [],
   "source": [
    "massa_sol = var('massa_sol', latex_name=r'{M}_\\odot')\n",
    "massa_terra = var('massa_terra', latex_name=r'{M}_\\oplus')\n",
    "massa_lua = var('massa_lua', latex_name=r'{M}_\\bullet')\n",
    "jaule = var('jaule', latex_name=r'\\text{J}')\n",
    "seg = var('seg', latex_name=r'\\text{s}')\n",
    "metro = var('metro', latex_name=r'\\text{m}')\n",
    "kelvin = var('kelvin', latex_name=r'\\text{K}')\n",
    "kilog = var('kilog', latex_name=r'\\text{kg}')\n",
    "var('G')\n",
    "assume(massa_sol>0,massa_terra>0,jaule>0,metro>0,kelvin>0,kilog>0,G>0,seg>0)\n",
    "constantes_SI = {c_planck:1.034e-34*jaule*seg, c:3e8*metro/seg, k_B:1.38e-23*jaule/kelvin, G:6.674e-11*metro**3/(kilog*seg**2),massa_sol:1.9897e30*kilog, massa_terra:5.9722e24*kilog,massa_lua:7.342e22*kilog}"
   ]
  },
  {
   "cell_type": "code",
   "execution_count": null,
   "metadata": {
    "slideshow": {
     "slide_type": "subslide"
    }
   },
   "outputs": [],
   "source": [
    "constantes_SI"
   ]
  },
  {
   "cell_type": "code",
   "execution_count": null,
   "metadata": {
    "slideshow": {
     "slide_type": "slide"
    }
   },
   "outputs": [],
   "source": [
    "T_Hawking.subs(constantes_SI)"
   ]
  },
  {
   "cell_type": "markdown",
   "metadata": {
    "slideshow": {
     "slide_type": "subslide"
    }
   },
   "source": [
    "Um outro dicionário para eliminar as unidades pode ser útil, por exemplo, para plotar gráficos."
   ]
  },
  {
   "cell_type": "code",
   "execution_count": null,
   "metadata": {
    "slideshow": {
     "slide_type": "fragment"
    }
   },
   "outputs": [],
   "source": [
    "sem_unidades = {jaule:1, seg:1, metro:1, kelvin:1, kilog:1};sem_unidades"
   ]
  },
  {
   "cell_type": "code",
   "execution_count": null,
   "metadata": {
    "slideshow": {
     "slide_type": "fragment"
    }
   },
   "outputs": [],
   "source": [
    "T_Hawking.subs(constantes_SI).subs(sem_unidades)"
   ]
  },
  {
   "cell_type": "markdown",
   "metadata": {
    "slideshow": {
     "slide_type": "skip"
    }
   },
   "source": [
    "***"
   ]
  },
  {
   "cell_type": "markdown",
   "metadata": {
    "slideshow": {
     "slide_type": "slide"
    }
   },
   "source": [
    "### 2. Greavidade superficial para a solução de Kerr"
   ]
  },
  {
   "cell_type": "markdown",
   "metadata": {
    "slideshow": {
     "slide_type": "fragment"
    }
   },
   "source": [
    "Precisaremos da gravidade superficial e dos horizontes na solução de Kerr"
   ]
  },
  {
   "cell_type": "markdown",
   "metadata": {
    "slideshow": {
     "slide_type": "subslide"
    }
   },
   "source": [
    "\\begin{align}\n",
    "\\kappa &= \\frac{r_H-r_h}{2(r_H^2+a^2)}c\\\\\n",
    "r_H &= \\frac{1}{2}(r_s+\\sqrt{r_s^2-4a^2})\\\\\n",
    "r_h &= \\frac{1}{2}(r_s-\\sqrt{r_s^2-4a^2})\\\\\n",
    "r_s &= \\frac{2GM}{c^2}\n",
    "\\end{align}"
   ]
  },
  {
   "cell_type": "markdown",
   "metadata": {
    "slideshow": {
     "slide_type": "subslide"
    }
   },
   "source": [
    "Raio de Schwarzschild"
   ]
  },
  {
   "cell_type": "code",
   "execution_count": null,
   "metadata": {
    "slideshow": {
     "slide_type": "-"
    }
   },
   "outputs": [],
   "source": [
    "var('M a')\n",
    "assume(a>0,M>0)\n",
    "r_sch = 2*G*M/c**2\n",
    "r_sch"
   ]
  },
  {
   "cell_type": "markdown",
   "metadata": {
    "slideshow": {
     "slide_type": "subslide"
    }
   },
   "source": [
    "Horizonte interno"
   ]
  },
  {
   "cell_type": "code",
   "execution_count": null,
   "metadata": {
    "slideshow": {
     "slide_type": "-"
    }
   },
   "outputs": [],
   "source": [
    "r_int = 1/2*(r_sch-sqrt(r_sch**2-4*a**2))\n",
    "r_int.subs(c=1,G=1)"
   ]
  },
  {
   "cell_type": "markdown",
   "metadata": {
    "slideshow": {
     "slide_type": "subslide"
    }
   },
   "source": [
    "Horizonte externo"
   ]
  },
  {
   "cell_type": "code",
   "execution_count": null,
   "metadata": {
    "slideshow": {
     "slide_type": "-"
    }
   },
   "outputs": [],
   "source": [
    "r_ext = 1/2*(r_sch+sqrt(r_sch**2-4*a**2))\n",
    "r_ext.subs(c=1,G=1)"
   ]
  },
  {
   "cell_type": "markdown",
   "metadata": {
    "slideshow": {
     "slide_type": "subslide"
    }
   },
   "source": [
    "Gravidade Superficial"
   ]
  },
  {
   "cell_type": "code",
   "execution_count": null,
   "metadata": {
    "scrolled": true,
    "slideshow": {
     "slide_type": "-"
    }
   },
   "outputs": [],
   "source": [
    "grav_superficial = (r_ext-r_int)/(2*(r_ext**2+a**2))*c\n",
    "grav_superficial.expand().subs(G=1,c=1)"
   ]
  },
  {
   "cell_type": "markdown",
   "metadata": {
    "slideshow": {
     "slide_type": "slide"
    }
   },
   "source": [
    "#### 2.1 Gráfico $\\kappa \\times M$"
   ]
  },
  {
   "cell_type": "code",
   "execution_count": null,
   "metadata": {
    "slideshow": {
     "slide_type": "fragment"
    }
   },
   "outputs": [],
   "source": [
    "temps = [plot(grav_superficial.subs(G=1,c=1,a=k), (M,1,4), axes_labels =['$M$',r'$\\kappa$'], \n",
    "              ticks=[[],[]], color=(random(),random(),random()),\\\n",
    "              frame=True, legend_label=r'$a={}$'.format(k.n(digits=1))) for k in srange(0,.99,.1)]"
   ]
  },
  {
   "cell_type": "code",
   "execution_count": null,
   "metadata": {
    "slideshow": {
     "slide_type": "subslide"
    }
   },
   "outputs": [],
   "source": [
    "sum(temps)"
   ]
  },
  {
   "cell_type": "markdown",
   "metadata": {
    "slideshow": {
     "slide_type": "slide"
    }
   },
   "source": [
    "#### 2.2 Solução de Swarzschild"
   ]
  },
  {
   "cell_type": "code",
   "execution_count": null,
   "metadata": {
    "slideshow": {
     "slide_type": "fragment"
    }
   },
   "outputs": [],
   "source": [
    "grav_superficial.subs(a=0)"
   ]
  },
  {
   "cell_type": "code",
   "execution_count": null,
   "metadata": {
    "slideshow": {
     "slide_type": "fragment"
    }
   },
   "outputs": [],
   "source": [
    "T_Hawking.subs(kappa=grav_superficial.subs(a=0))"
   ]
  },
  {
   "cell_type": "markdown",
   "metadata": {
    "slideshow": {
     "slide_type": "subslide"
    }
   },
   "source": [
    "$T_H$ para $M=M_\\odot$"
   ]
  },
  {
   "cell_type": "code",
   "execution_count": null,
   "metadata": {
    "scrolled": true,
    "slideshow": {
     "slide_type": "fragment"
    }
   },
   "outputs": [],
   "source": [
    "T_Hawking.subs(kappa=grav_superficial.subs(a=0,c=constantes_SI[c],M=massa_sol)).subs(constantes_SI)"
   ]
  },
  {
   "cell_type": "code",
   "execution_count": null,
   "metadata": {
    "slideshow": {
     "slide_type": "fragment"
    }
   },
   "outputs": [],
   "source": [
    "T_Hawking.subs(kappa=grav_superficial.subs(a=0,c=constantes_SI[c],M=massa_sol)).subs(constantes_SI).subs(sem_unidades).n()"
   ]
  },
  {
   "cell_type": "markdown",
   "metadata": {
    "slideshow": {
     "slide_type": "subslide"
    }
   },
   "source": [
    "Em geral, para a solução de Shwarzschild\n",
    "$$T_H \\approx 6\\times 10^{-8}\\left(\\frac{M_\\odot}{M}\\right) \\text{K}$$"
   ]
  },
  {
   "cell_type": "markdown",
   "metadata": {
    "slideshow": {
     "slide_type": "slide"
    }
   },
   "source": [
    "$T_H$ para $M$ em kg"
   ]
  },
  {
   "cell_type": "code",
   "execution_count": null,
   "metadata": {
    "slideshow": {
     "slide_type": "fragment"
    }
   },
   "outputs": [],
   "source": [
    "ths=T_Hawking.subs(kappa=grav_superficial.subs(a=0,c=3e8)).subs(constantes_SI).subs(sem_unidades)\n",
    "ths "
   ]
  },
  {
   "cell_type": "markdown",
   "metadata": {
    "slideshow": {
     "slide_type": "subslide"
    }
   },
   "source": [
    "Gráficos da temperatura Hawking para buracos negros com massa $10^5$kg$-10^{10}$kg e $M_{\\text{lua}}-M_{\\text{M87}}$"
   ]
  },
  {
   "cell_type": "code",
   "execution_count": null,
   "metadata": {
    "scrolled": false,
    "slideshow": {
     "slide_type": "fragment"
    }
   },
   "outputs": [],
   "source": [
    "plot_th = graphics_array([plot(ths,(M,1e5,1e10),\\\n",
    "                               frame=True,gridlines='minor',scale='semilogy', \\\n",
    "                               axes_labels =[r'$M({kg})$',r'$T_H(K)$'],color=(0,73/256,156/256)),\\\n",
    "                          plot(ths,(M,constantes_SI[massa_lua].subs(sem_unidades),1e39),frame=True,gridlines='minor',scale='loglog',\\\n",
    "                               axes_labels =[r'$M({kg})$',r'$T_H(K)$'],color=(0,73/256,156/256))])"
   ]
  },
  {
   "cell_type": "code",
   "execution_count": null,
   "metadata": {
    "slideshow": {
     "slide_type": "subslide"
    }
   },
   "outputs": [],
   "source": [
    "plot_th.show(figsize=[10,5])"
   ]
  },
  {
   "cell_type": "markdown",
   "metadata": {
    "slideshow": {
     "slide_type": "skip"
    }
   },
   "source": [
    "***"
   ]
  },
  {
   "cell_type": "markdown",
   "metadata": {
    "slideshow": {
     "slide_type": "slide"
    }
   },
   "source": [
    "### 3. Sagitário A$^*$ "
   ]
  },
  {
   "cell_type": "markdown",
   "metadata": {
    "slideshow": {
     "slide_type": "fragment"
    }
   },
   "source": [
    "Criaremos um outro dicionário com os dados de Sagitário A$^*$"
   ]
  },
  {
   "cell_type": "code",
   "execution_count": null,
   "metadata": {
    "slideshow": {
     "slide_type": "fragment"
    }
   },
   "outputs": [],
   "source": [
    "BH_sagittarius = {M:4.14e6*massa_sol}\n",
    "BH_sagittarius[a] = 0.9*BH_sagittarius[M]*G/c**2 # **O momento angular real não é conhecido"
   ]
  },
  {
   "cell_type": "code",
   "execution_count": null,
   "metadata": {
    "slideshow": {
     "slide_type": "subslide"
    }
   },
   "outputs": [],
   "source": [
    "BH_sagittarius"
   ]
  },
  {
   "cell_type": "code",
   "execution_count": null,
   "metadata": {
    "slideshow": {
     "slide_type": "fragment"
    }
   },
   "outputs": [],
   "source": [
    "BH_sagittarius[a]"
   ]
  },
  {
   "cell_type": "markdown",
   "metadata": {
    "slideshow": {
     "slide_type": "slide"
    }
   },
   "source": [
    "Raios"
   ]
  },
  {
   "cell_type": "code",
   "execution_count": null,
   "metadata": {
    "slideshow": {
     "slide_type": "-"
    }
   },
   "outputs": [],
   "source": [
    "var('r_s r_H r_h')\n",
    "BH_sagittarius[r_s] = r_sch.subs(BH_sagittarius)\n",
    "BH_sagittarius[r_H] = r_ext.subs(BH_sagittarius)\n",
    "BH_sagittarius[r_h] = r_int.subs(BH_sagittarius)\n",
    "BH_sagittarius[kappa] = grav_superficial.subs(BH_sagittarius)"
   ]
  },
  {
   "cell_type": "code",
   "execution_count": null,
   "metadata": {
    "slideshow": {
     "slide_type": "subslide"
    }
   },
   "outputs": [],
   "source": [
    "BH_sagittarius"
   ]
  },
  {
   "cell_type": "code",
   "execution_count": null,
   "metadata": {
    "slideshow": {
     "slide_type": "subslide"
    }
   },
   "outputs": [],
   "source": [
    "T_Hawking.subs(BH_sagittarius)"
   ]
  },
  {
   "cell_type": "code",
   "execution_count": null,
   "metadata": {
    "slideshow": {
     "slide_type": "fragment"
    }
   },
   "outputs": [],
   "source": [
    "BH_sagittarius[kappa].subs(c=3e8).subs(constantes_SI)*metro**3/seg**3"
   ]
  },
  {
   "cell_type": "code",
   "execution_count": null,
   "metadata": {
    "slideshow": {
     "slide_type": "fragment"
    }
   },
   "outputs": [],
   "source": [
    "T_Hawking.subs(BH_sagittarius).subs(c=3e8).subs(constantes_SI)*metro**3/seg**3"
   ]
  },
  {
   "cell_type": "markdown",
   "metadata": {
    "slideshow": {
     "slide_type": "subslide"
    }
   },
   "source": [
    "Schwarzschild (a=0)"
   ]
  },
  {
   "cell_type": "code",
   "execution_count": null,
   "metadata": {
    "slideshow": {
     "slide_type": "-"
    }
   },
   "outputs": [],
   "source": [
    "T_Hawking.subs(kappa=grav_superficial.subs(a=0)).subs(BH_sagittarius).subs(c=3e8).subs(constantes_SI)*metro**3/seg**3"
   ]
  },
  {
   "cell_type": "markdown",
   "metadata": {
    "slideshow": {
     "slide_type": "skip"
    }
   },
   "source": [
    "***"
   ]
  },
  {
   "cell_type": "markdown",
   "metadata": {
    "slideshow": {
     "slide_type": "slide"
    }
   },
   "source": [
    "### 4. Unidades geometrizadas"
   ]
  },
  {
   "cell_type": "markdown",
   "metadata": {
    "slideshow": {
     "slide_type": "fragment"
    }
   },
   "source": [
    "Podemos também expressar tudo para unidades geometrizadas\n",
    "\\begin{align}\n",
    "c&=1\\\\\n",
    "G&=1\n",
    "\\end{align}\n",
    "de forma automatizada"
   ]
  },
  {
   "cell_type": "code",
   "execution_count": null,
   "metadata": {
    "slideshow": {
     "slide_type": "subslide"
    }
   },
   "outputs": [],
   "source": [
    "tc=constantes_SI[c]\n",
    "geo_c=solve(tc==1,seg)[0];geo_c"
   ]
  },
  {
   "cell_type": "code",
   "execution_count": null,
   "metadata": {
    "slideshow": {
     "slide_type": "fragment"
    }
   },
   "outputs": [],
   "source": [
    "tG= constantes_SI[G];tG.subs(geo_c)"
   ]
  },
  {
   "cell_type": "code",
   "execution_count": null,
   "metadata": {
    "slideshow": {
     "slide_type": "fragment"
    }
   },
   "outputs": [],
   "source": [
    "geo_G=solve(tG.subs(geo_c)==1,kilog)[0];geo_G"
   ]
  },
  {
   "cell_type": "code",
   "execution_count": null,
   "metadata": {
    "slideshow": {
     "slide_type": "skip"
    }
   },
   "outputs": [],
   "source": [
    "del tc,tG"
   ]
  },
  {
   "cell_type": "markdown",
   "metadata": {
    "slideshow": {
     "slide_type": "slide"
    }
   },
   "source": [
    "Criamos então um outro dicionário para as constantes em unidades geometrizadas"
   ]
  },
  {
   "cell_type": "code",
   "execution_count": null,
   "metadata": {
    "slideshow": {
     "slide_type": "fragment"
    }
   },
   "outputs": [],
   "source": [
    "constantes_un_geo = {}\n",
    "for constante in constantes_SI:\n",
    "    constantes_un_geo[constante] = constantes_SI[constante].subs(jaule=kilog*metro**2/seg**2).subs(geo_c,geo_G)"
   ]
  },
  {
   "cell_type": "code",
   "execution_count": null,
   "metadata": {
    "scrolled": true,
    "slideshow": {
     "slide_type": "subslide"
    }
   },
   "outputs": [],
   "source": [
    "constantes_un_geo"
   ]
  },
  {
   "cell_type": "code",
   "execution_count": null,
   "metadata": {
    "slideshow": {
     "slide_type": "subslide"
    }
   },
   "outputs": [],
   "source": [
    "constantes_un_geo[c] = int(constantes_un_geo[c])\n",
    "constantes_un_geo[G] = int(constantes_un_geo[G])\n",
    "constantes_un_geo"
   ]
  },
  {
   "cell_type": "markdown",
   "metadata": {
    "slideshow": {
     "slide_type": "slide"
    }
   },
   "source": [
    "Gravidade superficial em unidades geometrizadas"
   ]
  },
  {
   "cell_type": "code",
   "execution_count": null,
   "metadata": {
    "slideshow": {
     "slide_type": "fragment"
    }
   },
   "outputs": [],
   "source": [
    "BH_sagittarius[kappa].subs(constantes_un_geo)"
   ]
  },
  {
   "cell_type": "markdown",
   "metadata": {
    "slideshow": {
     "slide_type": "subslide"
    }
   },
   "source": [
    "Temperatura Hawking"
   ]
  },
  {
   "cell_type": "code",
   "execution_count": null,
   "metadata": {
    "scrolled": false,
    "slideshow": {
     "slide_type": "fragment"
    }
   },
   "outputs": [],
   "source": [
    "T_Hawking.subs(BH_sagittarius).subs(constantes_un_geo)"
   ]
  },
  {
   "cell_type": "code",
   "execution_count": null,
   "metadata": {
    "slideshow": {
     "slide_type": "fragment"
    }
   },
   "outputs": [],
   "source": [
    "(T_Hawking.subs(BH_sagittarius).subs(constantes_un_geo)/kelvin).n()*kelvin"
   ]
  },
  {
   "cell_type": "markdown",
   "metadata": {
    "slideshow": {
     "slide_type": "skip"
    }
   },
   "source": [
    "***"
   ]
  },
  {
   "cell_type": "code",
   "execution_count": null,
   "metadata": {
    "slideshow": {
     "slide_type": "slide"
    }
   },
   "outputs": [],
   "source": [
    "whos"
   ]
  },
  {
   "cell_type": "markdown",
   "metadata": {
    "slideshow": {
     "slide_type": "slide"
    }
   },
   "source": [
    "## FIM"
   ]
  }
 ],
 "metadata": {
  "kernelspec": {
   "display_name": "SageMath 9.1",
   "language": "sage",
   "name": "sagemath"
  },
  "language_info": {
   "codemirror_mode": {
    "name": "ipython",
    "version": 3
   },
   "file_extension": ".py",
   "mimetype": "text/x-python",
   "name": "python",
   "nbconvert_exporter": "python",
   "pygments_lexer": "ipython3",
   "version": "3.7.3"
  },
  "rise": {
   "enable_chalkboard": true,
   "scroll": true,
   "start_slideshow_at": "beginning"
  }
 },
 "nbformat": 4,
 "nbformat_minor": 2
}
