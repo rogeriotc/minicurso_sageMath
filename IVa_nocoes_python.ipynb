{
 "cells": [
  {
   "cell_type": "markdown",
   "metadata": {
    "slideshow": {
     "slide_type": "slide"
    }
   },
   "source": [
    "# Uma breve introdução ao SageMath | parte IV_1\n",
    "***\n",
    "Rogério T. Cavalcanti"
   ]
  },
  {
   "cell_type": "markdown",
   "metadata": {
    "slideshow": {
     "slide_type": "slide"
    }
   },
   "source": [
    "## Noçoes de Pyhton para SageMath"
   ]
  },
  {
   "cell_type": "markdown",
   "metadata": {
    "slideshow": {
     "slide_type": "fragment"
    }
   },
   "source": [
    "Essa é uma brevíssima introdução (revisão) ao Python e sua integração com o SageMath. Para detalhes outras fontes também devem ser consultadas.\n",
    "\n",
    "[Essas](https://panda.ime.usp.br/aulasPython/static/aulasPython/index.html) aulas interativas ou [esse](https://www.coursera.org/learn/ciencia-computacao-python-conceitos?) curso, ambos da USP, são um bom começo."
   ]
  },
  {
   "cell_type": "code",
   "execution_count": null,
   "metadata": {
    "slideshow": {
     "slide_type": "skip"
    }
   },
   "outputs": [],
   "source": [
    "reset()\n",
    "%display latex"
   ]
  },
  {
   "cell_type": "markdown",
   "metadata": {
    "slideshow": {
     "slide_type": "slide"
    }
   },
   "source": [
    "### 1. Variáveis"
   ]
  },
  {
   "cell_type": "markdown",
   "metadata": {
    "slideshow": {
     "slide_type": "fragment"
    }
   },
   "source": [
    "Como já discutimos, a atribuição de variáveis é é feito com o símbolo `=`."
   ]
  },
  {
   "cell_type": "code",
   "execution_count": null,
   "metadata": {
    "slideshow": {
     "slide_type": "subslide"
    }
   },
   "outputs": [],
   "source": [
    "a = 2\n",
    "b = 'alguma string'\n",
    "c = 2.5\n",
    "d = True"
   ]
  },
  {
   "cell_type": "code",
   "execution_count": null,
   "metadata": {
    "scrolled": true,
    "slideshow": {
     "slide_type": "fragment"
    }
   },
   "outputs": [],
   "source": [
    "display(a,b,c,d)"
   ]
  },
  {
   "cell_type": "markdown",
   "metadata": {
    "slideshow": {
     "slide_type": "fragment"
    }
   },
   "source": [
    "Note que, diferente de outras linguagens, a tipagem de variáveis em Python é automática."
   ]
  },
  {
   "cell_type": "markdown",
   "metadata": {
    "slideshow": {
     "slide_type": "slide"
    }
   },
   "source": [
    "#### 1.1 Nomes\n",
    "\n",
    "Você pode dar o nome que quiser para as variáveis, mas existem algumas convenções que podem tornar o código mais legível."
   ]
  },
  {
   "cell_type": "markdown",
   "metadata": {
    "slideshow": {
     "slide_type": "subslide"
    }
   },
   "source": [
    " Por exemplo:\n",
    "+ Dê uma nome para a variável indicando o que ela representa, ao invés de usar só uma letra;\n",
    "+ Inicie os nomes com letra minuscula e separe palavras com `_`;\n",
    "+ Evite só l (L minísculo) ou I (i maísculo) para o nome de uma variável;\n",
    "+ Palavras reservadas da linguagem (plot, pi, var, for, if, print, etc...).\n",
    "\n",
    "\n",
    "\n",
    "Veja mais [aqui](https://www.python.org/dev/peps/pep-0008/#naming-conventions)"
   ]
  },
  {
   "cell_type": "markdown",
   "metadata": {
    "slideshow": {
     "slide_type": "subslide"
    }
   },
   "source": [
    "Lista de palavras reservados"
   ]
  },
  {
   "cell_type": "code",
   "execution_count": null,
   "metadata": {
    "slideshow": {
     "slide_type": "fragment"
    }
   },
   "outputs": [],
   "source": [
    "import keyword\n",
    "print(keyword.kwlist)"
   ]
  },
  {
   "cell_type": "markdown",
   "metadata": {
    "slideshow": {
     "slide_type": "subslide"
    }
   },
   "source": [
    "Exenplo de nomes de variáveis"
   ]
  },
  {
   "cell_type": "code",
   "execution_count": null,
   "metadata": {
    "slideshow": {
     "slide_type": "fragment"
    }
   },
   "outputs": [],
   "source": [
    "massa_sol_kg = 1.9897e30\n",
    "massa_BH_sagittarius = 4.14e6*massa_sol_kg\n",
    "massa_BH_M87_min = 2.7e9*massa_sol_kg\n",
    "massa_BH_M87_max = 7e9*massa_sol_kg\n",
    "massa_sol_kg"
   ]
  },
  {
   "cell_type": "markdown",
   "metadata": {
    "slideshow": {
     "slide_type": "subslide"
    }
   },
   "source": [
    "No jupyter, o comando `whos` mostra todas as variáveis criadas, seus tipos e valores."
   ]
  },
  {
   "cell_type": "code",
   "execution_count": null,
   "metadata": {
    "slideshow": {
     "slide_type": "fragment"
    }
   },
   "outputs": [],
   "source": [
    "whos"
   ]
  },
  {
   "cell_type": "markdown",
   "metadata": {
    "slideshow": {
     "slide_type": "subslide"
    }
   },
   "source": [
    "Usamos o comando `del` para limpar uma variável"
   ]
  },
  {
   "cell_type": "code",
   "execution_count": null,
   "metadata": {
    "slideshow": {
     "slide_type": "fragment"
    }
   },
   "outputs": [],
   "source": [
    "del a,c"
   ]
  },
  {
   "cell_type": "code",
   "execution_count": null,
   "metadata": {
    "slideshow": {
     "slide_type": "fragment"
    }
   },
   "outputs": [],
   "source": [
    "whos"
   ]
  },
  {
   "cell_type": "markdown",
   "metadata": {
    "slideshow": {
     "slide_type": "slide"
    }
   },
   "source": [
    "### 2. Strings"
   ]
  },
  {
   "cell_type": "markdown",
   "metadata": {
    "slideshow": {
     "slide_type": "fragment"
    }
   },
   "source": [
    "Strings são declaradas usando aspas simples `''` ou aspas duplas `\"\"` e podem ser concatenadas com o sinal `+`."
   ]
  },
  {
   "cell_type": "code",
   "execution_count": null,
   "metadata": {
    "slideshow": {
     "slide_type": "fragment"
    }
   },
   "outputs": [],
   "source": [
    "b = b + ' qUALQUER'\n",
    "print(b)"
   ]
  },
  {
   "cell_type": "markdown",
   "metadata": {
    "slideshow": {
     "slide_type": "subslide"
    }
   },
   "source": [
    "Existem vários métrodos para manipular strings"
   ]
  },
  {
   "cell_type": "code",
   "execution_count": null,
   "metadata": {
    "slideshow": {
     "slide_type": "fragment"
    }
   },
   "outputs": [],
   "source": [
    "display(b.capitalize(), b.split(),b.lower(),b.upper())"
   ]
  },
  {
   "cell_type": "code",
   "execution_count": null,
   "metadata": {
    "slideshow": {
     "slide_type": "subslide"
    }
   },
   "outputs": [],
   "source": [
    "print('A massa do sol, em kg, é {}. Já a do Sagitário A* é {}. \\\n",
    "      \\n{} vezes maior.'.format(massa_sol_kg, massa_BH_sagittarius,massa_BH_sagittarius/massa_sol_kg))"
   ]
  },
  {
   "cell_type": "markdown",
   "metadata": {
    "slideshow": {
     "slide_type": "fragment"
    }
   },
   "source": [
    "O comand `\\n` muda de linha em uma string."
   ]
  },
  {
   "cell_type": "markdown",
   "metadata": {
    "slideshow": {
     "slide_type": "slide"
    }
   },
   "source": [
    "### 3. Variáveis booleanas"
   ]
  },
  {
   "cell_type": "markdown",
   "metadata": {
    "slideshow": {
     "slide_type": "fragment"
    }
   },
   "source": [
    "Variáveis booleanas assumem apenas os valores `True` ou `False` e podem ser utilizadas em operadores de comparação.\n",
    "\n",
    "| operador | descrição  |\n",
    "| :---: | :---: |\n",
    "| `<` | menor |\n",
    "| `<=` | menor ou igual |\n",
    "| `>` | maior |\n",
    "| `>=` | maior ou igual |\n",
    "| `==` | igual |\n",
    "| `!=` | diferente |"
   ]
  },
  {
   "cell_type": "markdown",
   "metadata": {
    "slideshow": {
     "slide_type": "subslide"
    }
   },
   "source": [
    "Além dos operadores booleanos\n",
    "\n",
    "| operator | descrição\n",
    "| :---: | :--:\n",
    "| `A and B` | `True` se e A e B são verdadeiros\n",
    "| `A or B` | `True` se e A ou B são verdadeiros\n",
    "| `not A` | negação de A"
   ]
  },
  {
   "cell_type": "code",
   "execution_count": null,
   "metadata": {
    "slideshow": {
     "slide_type": "subslide"
    }
   },
   "outputs": [],
   "source": [
    "massa_sol_kg < massa_BH_sagittarius"
   ]
  },
  {
   "cell_type": "code",
   "execution_count": null,
   "metadata": {
    "slideshow": {
     "slide_type": "fragment"
    }
   },
   "outputs": [],
   "source": [
    "(10 < 2) or (3 != 9)"
   ]
  },
  {
   "cell_type": "code",
   "execution_count": null,
   "metadata": {
    "slideshow": {
     "slide_type": "fragment"
    }
   },
   "outputs": [],
   "source": [
    "(10 < 2) and (3 != 9)"
   ]
  },
  {
   "cell_type": "code",
   "execution_count": null,
   "metadata": {
    "slideshow": {
     "slide_type": "fragment"
    }
   },
   "outputs": [],
   "source": [
    "not massa_BH_sagittarius > massa_BH_M87_min"
   ]
  },
  {
   "cell_type": "markdown",
   "metadata": {
    "slideshow": {
     "slide_type": "slide"
    }
   },
   "source": [
    "### 4. Condicionais"
   ]
  },
  {
   "cell_type": "markdown",
   "metadata": {
    "slideshow": {
     "slide_type": "fragment"
    }
   },
   "source": [
    "Condicionais nos permitem execute algumas instruções dependendo do resultado de uma condição booleana. As duas sintaxes possíveis para \n",
    "estrutura condicional são:\n",
    "\n",
    "```python\n",
    "    if condição:\n",
    "        |\n",
    "        | bloco de comandos\n",
    "        |```"
   ]
  },
  {
   "cell_type": "markdown",
   "metadata": {
    "slideshow": {
     "slide_type": "subslide"
    }
   },
   "source": [
    "    \n",
    "```python\n",
    "    if condição:\n",
    "        |\n",
    "        | bloco de comandos 0\n",
    "        |\n",
    "    else:\n",
    "        |\n",
    "        | bloco de comandos 1\n",
    "        |```"
   ]
  },
  {
   "cell_type": "code",
   "execution_count": null,
   "metadata": {
    "slideshow": {
     "slide_type": "subslide"
    }
   },
   "outputs": [],
   "source": [
    "if 2**50 > 3**40:\n",
    "    print('Sim')\n",
    "else:\n",
    "    print('Não')"
   ]
  },
  {
   "cell_type": "markdown",
   "metadata": {
    "slideshow": {
     "slide_type": "fragment"
    }
   },
   "source": [
    "*Note que o bloco de comandos deve ser identado e deve haver `:` após a condição.*"
   ]
  },
  {
   "cell_type": "markdown",
   "metadata": {
    "slideshow": {
     "slide_type": "slide"
    }
   },
   "source": [
    "Vários condicionais podem ser colocados em cadeia com `elif`\n",
    "\n",
    "```python\n",
    "if condição_0:\n",
    "    |\n",
    "    | bloco de comandos 0\n",
    "    |\n",
    "elif condiçao_1:\n",
    "    |\n",
    "    | bloco de comandos 1\n",
    "    |\n",
    "elif condicão_2:\n",
    "    |\n",
    "    | bloco de comandos 2\n",
    "    |\n",
    "elif ...\n",
    "elif condição_k:\n",
    "    |\n",
    "    | bloco de comandos k\n",
    "    |\n",
    "else:\n",
    "    |\n",
    "    | bloco de comandos k+1\n",
    "    |```"
   ]
  },
  {
   "cell_type": "markdown",
   "metadata": {
    "slideshow": {
     "slide_type": "slide"
    }
   },
   "source": [
    "### 5. Funções"
   ]
  },
  {
   "cell_type": "markdown",
   "metadata": {
    "slideshow": {
     "slide_type": "fragment"
    }
   },
   "source": [
    "Funções são blocos de código destinados a um determinado fim. São muito úteis para quebrar problemas em pequenas partes e evitar repetição de códico, por exemplo."
   ]
  },
  {
   "cell_type": "markdown",
   "metadata": {
    "slideshow": {
     "slide_type": "subslide"
    }
   },
   "source": [
    "A sintáxe básica é:\n",
    "\n",
    "```python\n",
    "def nome_da_função(parâmetros):\n",
    "    '''\n",
    "    docstring contendo comentários sobre a função.\n",
    "    Embora opcionais são fortemente recomendados. Os comentários\n",
    "    devem descrever o papel dos parâmetros e o que a função faz.\n",
    "    '''\n",
    "    # corpo da função\n",
    "    |\n",
    "    | bloco de comandos\n",
    "    |```"
   ]
  },
  {
   "cell_type": "markdown",
   "metadata": {
    "slideshow": {
     "slide_type": "slide"
    }
   },
   "source": [
    "Vamos escrever uma função que verifica se uma matriz é intertível. Se for, retorna a sua inversa. "
   ]
  },
  {
   "cell_type": "code",
   "execution_count": null,
   "metadata": {
    "slideshow": {
     "slide_type": "fragment"
    }
   },
   "outputs": [],
   "source": [
    "def e_invertivel(matriz):\n",
    "    '''Determina se uma matriz qualquer M é invertível.\n",
    "\n",
    "    Parameters\n",
    "    ----------\n",
    "    matriz\n",
    "\n",
    "    Returns\n",
    "    -------\n",
    "    matriz^-1 se matriz é invertível\n",
    "    string 'A matrix não é invertível' caso contrário\n",
    "\n",
    "    Examples\n",
    "    --------\n",
    "    e_invertivel([[1,1],[2,2]])\n",
    "    A matrix não é invertível'''\n",
    "    if det(matriz) != 0:\n",
    "        imatriz = matriz.inverse()\n",
    "        return imatriz\n",
    "    else:\n",
    "        return 'A matrix não é invertível'"
   ]
  },
  {
   "cell_type": "code",
   "execution_count": null,
   "metadata": {
    "slideshow": {
     "slide_type": "subslide"
    }
   },
   "outputs": [],
   "source": [
    "e_invertivel?"
   ]
  },
  {
   "cell_type": "code",
   "execution_count": null,
   "metadata": {
    "slideshow": {
     "slide_type": "fragment"
    }
   },
   "outputs": [],
   "source": [
    "A = matrix([[10,2,4],[7,5,2],[5,1,2]]); A"
   ]
  },
  {
   "cell_type": "code",
   "execution_count": null,
   "metadata": {
    "slideshow": {
     "slide_type": "subslide"
    }
   },
   "outputs": [],
   "source": [
    "e_invertivel(A)"
   ]
  },
  {
   "cell_type": "markdown",
   "metadata": {
    "slideshow": {
     "slide_type": "slide"
    }
   },
   "source": [
    "Funções podem ter vários parâmetros ou nenhum, e alguns deles podem ser opcionais."
   ]
  },
  {
   "cell_type": "code",
   "execution_count": null,
   "metadata": {
    "slideshow": {
     "slide_type": "fragment"
    }
   },
   "outputs": [],
   "source": [
    "def saudacao(saud='Oi'):\n",
    "    nome = input('Qual é o seu nome? ')\n",
    "    print(saud+' '+nome)"
   ]
  },
  {
   "cell_type": "code",
   "execution_count": null,
   "metadata": {
    "slideshow": {
     "slide_type": "fragment"
    }
   },
   "outputs": [],
   "source": [
    "saudacao()"
   ]
  },
  {
   "cell_type": "code",
   "execution_count": null,
   "metadata": {
    "slideshow": {
     "slide_type": "fragment"
    }
   },
   "outputs": [],
   "source": [
    "saudacao(saud='Olá')"
   ]
  },
  {
   "cell_type": "markdown",
   "metadata": {
    "slideshow": {
     "slide_type": "slide"
    }
   },
   "source": [
    "### 6. Listas"
   ]
  },
  {
   "cell_type": "markdown",
   "metadata": {
    "slideshow": {
     "slide_type": "fragment"
    }
   },
   "source": [
    "#### 6.1 Criação e manipulação de elementos"
   ]
  },
  {
   "cell_type": "markdown",
   "metadata": {
    "slideshow": {
     "slide_type": "fragment"
    }
   },
   "source": [
    "Uma lista (`list`) em Python é uma sequência ordenada de dados de qualquer tipo (int, float, bool, str, list, etc), sempre delimitada por colchetes `[]`."
   ]
  },
  {
   "cell_type": "code",
   "execution_count": null,
   "metadata": {
    "slideshow": {
     "slide_type": "subslide"
    }
   },
   "outputs": [],
   "source": [
    "uma_lista = [11, \"oi\", 5.4, True]\n",
    "outra_lista = [\"joão\", \"masculino\", 25, 1.78, \"brasileira\", \"solteiro\"]\n",
    "mais_uma_lista = [\"Fernanda\", \"Montenegro\", 1929, \"Central do Brasil\", 1998, \"Atriz\", \"Rio de Janeiro, RJ\"]\n",
    "lista_listas = [uma_lista,outra_lista]"
   ]
  },
  {
   "cell_type": "code",
   "execution_count": null,
   "metadata": {
    "scrolled": true,
    "slideshow": {
     "slide_type": "fragment"
    }
   },
   "outputs": [],
   "source": [
    "lista_listas"
   ]
  },
  {
   "cell_type": "markdown",
   "metadata": {
    "slideshow": {
     "slide_type": "slide"
    }
   },
   "source": [
    "A quantidade de elementos de uma lista é obtida com len(lista)"
   ]
  },
  {
   "cell_type": "code",
   "execution_count": null,
   "metadata": {
    "slideshow": {
     "slide_type": "fragment"
    }
   },
   "outputs": [],
   "source": [
    "len(uma_lista)"
   ]
  },
  {
   "cell_type": "markdown",
   "metadata": {
    "slideshow": {
     "slide_type": "slide"
    }
   },
   "source": [
    "Acessamos os elementos de uma lista pelo índice correspondente."
   ]
  },
  {
   "cell_type": "code",
   "execution_count": null,
   "metadata": {
    "slideshow": {
     "slide_type": "fragment"
    }
   },
   "outputs": [],
   "source": [
    "display(uma_lista[0],outra_lista[4])"
   ]
  },
  {
   "cell_type": "markdown",
   "metadata": {
    "slideshow": {
     "slide_type": "subslide"
    }
   },
   "source": [
    "Índices negativos são contados do final para o começo da lista."
   ]
  },
  {
   "cell_type": "code",
   "execution_count": null,
   "metadata": {
    "slideshow": {
     "slide_type": "fragment"
    }
   },
   "outputs": [],
   "source": [
    "display(mais_uma_lista[-1],mais_uma_lista[-4])"
   ]
  },
  {
   "cell_type": "markdown",
   "metadata": {
    "slideshow": {
     "slide_type": "slide"
    }
   },
   "source": [
    "Listas são mutáveis"
   ]
  },
  {
   "cell_type": "code",
   "execution_count": null,
   "metadata": {
    "slideshow": {
     "slide_type": "fragment"
    }
   },
   "outputs": [],
   "source": [
    "display(outra_lista)\n",
    "outra_lista[2]=26\n",
    "display(outra_lista)"
   ]
  },
  {
   "cell_type": "markdown",
   "metadata": {
    "slideshow": {
     "slide_type": "slide"
    }
   },
   "source": [
    "Podemos criar uma lista vazia e depois ir adicionando os elementos."
   ]
  },
  {
   "cell_type": "code",
   "execution_count": null,
   "metadata": {
    "slideshow": {
     "slide_type": "fragment"
    }
   },
   "outputs": [],
   "source": [
    "L=[]"
   ]
  },
  {
   "cell_type": "code",
   "execution_count": null,
   "metadata": {
    "slideshow": {
     "slide_type": "fragment"
    }
   },
   "outputs": [],
   "source": [
    "L.append(1);L"
   ]
  },
  {
   "cell_type": "markdown",
   "metadata": {
    "slideshow": {
     "slide_type": "slide"
    }
   },
   "source": [
    "Listas não são vetores!"
   ]
  },
  {
   "cell_type": "code",
   "execution_count": null,
   "metadata": {
    "slideshow": {
     "slide_type": "fragment"
    }
   },
   "outputs": [],
   "source": [
    "L=3*L;L"
   ]
  },
  {
   "cell_type": "code",
   "execution_count": null,
   "metadata": {
    "slideshow": {
     "slide_type": "fragment"
    }
   },
   "outputs": [],
   "source": [
    "L + [5,51,9,4,4,6,8]"
   ]
  },
  {
   "cell_type": "markdown",
   "metadata": {
    "slideshow": {
     "slide_type": "slide"
    }
   },
   "source": [
    "Para acessar elementos de listas de listas (como matrizes) precisamos de dois ídices. O primeiro índice identifica a lista e o segundo o elemento dessa lista."
   ]
  },
  {
   "cell_type": "code",
   "execution_count": null,
   "metadata": {
    "slideshow": {
     "slide_type": "fragment"
    }
   },
   "outputs": [],
   "source": [
    "lista_listas"
   ]
  },
  {
   "cell_type": "code",
   "execution_count": null,
   "metadata": {
    "slideshow": {
     "slide_type": "fragment"
    }
   },
   "outputs": [],
   "source": [
    "lista_listas[1][5]"
   ]
  },
  {
   "cell_type": "markdown",
   "metadata": {
    "slideshow": {
     "slide_type": "slide"
    }
   },
   "source": [
    "#### 6.2 Fatias de listas"
   ]
  },
  {
   "cell_type": "code",
   "execution_count": null,
   "metadata": {
    "slideshow": {
     "slide_type": "fragment"
    }
   },
   "outputs": [],
   "source": [
    "lista_impares = [2*k+1 for k in range(0,50)]\n",
    "lista_impares"
   ]
  },
  {
   "cell_type": "markdown",
   "metadata": {
    "slideshow": {
     "slide_type": "subslide"
    }
   },
   "source": [
    "Podemos acessar fatias da lista usando `:`"
   ]
  },
  {
   "cell_type": "code",
   "execution_count": null,
   "metadata": {
    "slideshow": {
     "slide_type": "fragment"
    }
   },
   "outputs": [],
   "source": [
    "lista_impares[5:9]"
   ]
  },
  {
   "cell_type": "markdown",
   "metadata": {
    "slideshow": {
     "slide_type": "fragment"
    }
   },
   "source": [
    "A sintáse 5:9 significa que queremos selecionar os elementos do índice 5 (inclusive) ao 9 (exclusive)."
   ]
  },
  {
   "cell_type": "markdown",
   "metadata": {
    "slideshow": {
     "slide_type": "subslide"
    }
   },
   "source": [
    "Se o índice inicial (final) não for fornecido, é assumido que a fatia inicia (termina) no primeiro (último) índice."
   ]
  },
  {
   "cell_type": "code",
   "execution_count": null,
   "metadata": {
    "slideshow": {
     "slide_type": "fragment"
    }
   },
   "outputs": [],
   "source": [
    "display(lista_impares[:25])\n",
    "display(lista_impares[25:])"
   ]
  },
  {
   "cell_type": "markdown",
   "metadata": {
    "slideshow": {
     "slide_type": "subslide"
    }
   },
   "source": [
    "**Alguns métdodos de listas**\n",
    "\n",
    "Método | Descrição\n",
    ":--: | :--:\n",
    "`lista.append(x)` | insere o elemento `x` elemento ao fim da lista\n",
    "`lista.remove(x)` | remove o elemento `x` da lista\n",
    "`lista.count(x)` | conta quantas vezes o elemento `x` aparece na lista\n",
    "`lista.index(x)` | retorna o índice do elemento `x` na lista\n",
    "`lista.insert(n,x)` | insere o elemento `x` na posição `n` da lista"
   ]
  },
  {
   "cell_type": "markdown",
   "metadata": {
    "slideshow": {
     "slide_type": "subslide"
    }
   },
   "source": [
    "**Funções pré definidas**\n",
    "\n",
    "Função | Descrição\n",
    ":--: | :--:\n",
    "`sum(lista)` | soma os elementos da lista\n",
    "`len(lista)` | retorna a quantidade de elementos da listas\n",
    "`max(lista)` | retorna o maior elemento da lista\n",
    "`min(lista)` | retorna o menor elemento da lista\n",
    "`sorted(lista)` | retorna a lista com os elementos ordenados"
   ]
  },
  {
   "cell_type": "markdown",
   "metadata": {
    "slideshow": {
     "slide_type": "slide"
    }
   },
   "source": [
    "### 7. For"
   ]
  },
  {
   "cell_type": "markdown",
   "metadata": {
    "slideshow": {
     "slide_type": "fragment"
    }
   },
   "source": [
    "A sintáxe para o comando `For` em python é"
   ]
  },
  {
   "cell_type": "markdown",
   "metadata": {
    "slideshow": {
     "slide_type": "fragment"
    }
   },
   "source": [
    "```python\n",
    "for elemento in range(n):\n",
    "    |\n",
    "    | bloco de comandos 0\n",
    "    |```"
   ]
  },
  {
   "cell_type": "code",
   "execution_count": null,
   "metadata": {
    "slideshow": {
     "slide_type": "subslide"
    }
   },
   "outputs": [],
   "source": [
    "for a in range(3):\n",
    "    print(a)"
   ]
  },
  {
   "cell_type": "markdown",
   "metadata": {
    "slideshow": {
     "slide_type": "fragment"
    }
   },
   "source": [
    "O comando `range` pode ter 1,2 ou 3 argumentos, com a sintáxe\n",
    "```python\n",
    "range(início, fim, passo)```\n",
    "Aqui `início` e `fim` funcionam da mesma forma que fatias de listas. No Python o passo deve ser um número inteiro."
   ]
  },
  {
   "cell_type": "markdown",
   "metadata": {
    "slideshow": {
     "slide_type": "subslide"
    }
   },
   "source": [
    "O Sage elimina a restrição de passo inteiro com o comando `srange`, que tem a mesma sintáxe do `range` mas sem a restrição de passo inteiro."
   ]
  },
  {
   "cell_type": "markdown",
   "metadata": {
    "slideshow": {
     "slide_type": "fragment"
    }
   },
   "source": [
    "Os comandos `range` ou `srange` nos permitem também criar listas com elementos igualmente espaçados."
   ]
  },
  {
   "cell_type": "code",
   "execution_count": null,
   "metadata": {
    "slideshow": {
     "slide_type": "fragment"
    }
   },
   "outputs": [],
   "source": [
    "list(srange(1,3,.5))"
   ]
  },
  {
   "cell_type": "markdown",
   "metadata": {
    "slideshow": {
     "slide_type": "subslide"
    }
   },
   "source": [
    "Outra possibilidade\n",
    "```python\n",
    "for elemento in lista:\n",
    "    |\n",
    "    | bloco de comandos 0\n",
    "    |```"
   ]
  },
  {
   "cell_type": "code",
   "execution_count": null,
   "metadata": {
    "slideshow": {
     "slide_type": "fragment"
    }
   },
   "outputs": [],
   "source": [
    "nova_lista = []\n",
    "for numero in lista_impares:\n",
    "    if numero < 50:\n",
    "        nova_lista.append(numero)\n",
    "nova_lista  "
   ]
  },
  {
   "cell_type": "markdown",
   "metadata": {
    "slideshow": {
     "slide_type": "slide"
    }
   },
   "source": [
    "#### 7.1 *List comprehension*"
   ]
  },
  {
   "cell_type": "markdown",
   "metadata": {
    "slideshow": {
     "slide_type": "fragment"
    }
   },
   "source": [
    "No Python existe uma forma muito interessante de se criar listas, chamada [list comprehensions](https://docs.python.org/3/tutorial/datastructures.html#list-comprehensions). "
   ]
  },
  {
   "cell_type": "markdown",
   "metadata": {
    "slideshow": {
     "slide_type": "subslide"
    }
   },
   "source": [
    "A sintáxe básica é:\n",
    "\n",
    "```Python\n",
    "[expressão for item in iterável]\n",
    "```\n",
    "\n",
    "onde:\n",
    "\n",
    "* `iterável` é um range, lista, ou qualquer outra sequencia;\n",
    "* `item` é a variável que assume os valores do `iterável`\n",
    "* `expressão` é a expressão em Sage ou Python claculada para cada `item`"
   ]
  },
  {
   "cell_type": "code",
   "execution_count": null,
   "metadata": {
    "scrolled": true,
    "slideshow": {
     "slide_type": "subslide"
    }
   },
   "outputs": [],
   "source": [
    "lista_sinh=[sinh(x) for x in range(20)]\n",
    "lista_sinh"
   ]
  },
  {
   "cell_type": "code",
   "execution_count": null,
   "metadata": {
    "slideshow": {
     "slide_type": "fragment"
    }
   },
   "outputs": [],
   "source": [
    "lista_sinhN=[N(sinh(x)) for x in nova_lista]\n",
    "lista_sinhN"
   ]
  },
  {
   "cell_type": "code",
   "execution_count": null,
   "metadata": {
    "slideshow": {
     "slide_type": "subslide"
    }
   },
   "outputs": [],
   "source": [
    "texto_pos = 'Há dois tipos de cursos de Pós-Graduação; o \"stricto sensu\" que tem como objetivo desenvolver \\\n",
    "e aprofundar a formação adquirida na graduação, e o \"lato sensu\", cujo objetivo é mais técnico-profissional,\\\n",
    "sem uma abrangência mais profunda na área.'"
   ]
  },
  {
   "cell_type": "code",
   "execution_count": null,
   "metadata": {
    "scrolled": true,
    "slideshow": {
     "slide_type": "fragment"
    }
   },
   "outputs": [],
   "source": [
    "lista_caracteres = [caracter for caracter in texto_pos]\n",
    "lista_caracteres"
   ]
  },
  {
   "cell_type": "code",
   "execution_count": null,
   "metadata": {
    "slideshow": {
     "slide_type": "skip"
    }
   },
   "outputs": [],
   "source": [
    "whos"
   ]
  },
  {
   "cell_type": "markdown",
   "metadata": {
    "slideshow": {
     "slide_type": "slide"
    }
   },
   "source": [
    "### 8. Tuplas e Dicionário"
   ]
  },
  {
   "cell_type": "markdown",
   "metadata": {
    "slideshow": {
     "slide_type": "fragment"
    }
   },
   "source": [
    "Existem 3 principais estruturas de dados sequenciais em Python, as listas, tuplas e dicionários. "
   ]
  },
  {
   "cell_type": "markdown",
   "metadata": {
    "slideshow": {
     "slide_type": "subslide"
    }
   },
   "source": [
    "* Listas são mutáveis e versáteis. Delimitadas por colchetes `[]`; \n",
    "* Tuplas são imutáveis. Iso significa que, uma vez criada, você não pode alterar suas entradas. Matrizes e vetores são tuplas no Sage. Tuplas são delimitadas por parênteses `()`;\n",
    "* Dicionários são correspondências entre chaves (keys) e os valores correspondentes. Não têm índices como listas e tuplas e são delimitados por chaves `{}`."
   ]
  },
  {
   "cell_type": "markdown",
   "metadata": {
    "slideshow": {
     "slide_type": "slide"
    }
   },
   "source": [
    "#### 8.1 Tuplas"
   ]
  },
  {
   "cell_type": "markdown",
   "metadata": {
    "slideshow": {
     "slide_type": "fragment"
    }
   },
   "source": [
    "Tuplas só têm dois métodos, `.count()` e `.index()`. A sintáxe e funcionalistade é a mesma de listas."
   ]
  },
  {
   "cell_type": "code",
   "execution_count": null,
   "metadata": {
    "slideshow": {
     "slide_type": "fragment"
    }
   },
   "outputs": [],
   "source": [
    "t1 = ((1,2),(3,3))\n",
    "t1[0]"
   ]
  },
  {
   "cell_type": "code",
   "execution_count": null,
   "metadata": {
    "slideshow": {
     "slide_type": "fragment"
    }
   },
   "outputs": [],
   "source": [
    "t1[1].count(3)"
   ]
  },
  {
   "cell_type": "code",
   "execution_count": null,
   "metadata": {
    "slideshow": {
     "slide_type": "subslide"
    }
   },
   "outputs": [],
   "source": [
    "zip?"
   ]
  },
  {
   "cell_type": "code",
   "execution_count": null,
   "metadata": {
    "slideshow": {
     "slide_type": "fragment"
    }
   },
   "outputs": [],
   "source": [
    "lista_zip=list(zip(lista_sinh,lista_sinhN))"
   ]
  },
  {
   "cell_type": "code",
   "execution_count": null,
   "metadata": {
    "slideshow": {
     "slide_type": "fragment"
    }
   },
   "outputs": [],
   "source": [
    "lista_zip"
   ]
  },
  {
   "cell_type": "markdown",
   "metadata": {
    "slideshow": {
     "slide_type": "slide"
    }
   },
   "source": [
    "#### 8.2 Dicionário"
   ]
  },
  {
   "cell_type": "markdown",
   "metadata": {
    "slideshow": {
     "slide_type": "fragment"
    }
   },
   "source": [
    "Ao invés de utilizar um número inteiro como índice, como em listas e tuplas, pode ser mais interessante utilizar algum dado sobre a informação contida na sequencia de dados."
   ]
  },
  {
   "cell_type": "code",
   "execution_count": null,
   "metadata": {
    "slideshow": {
     "slide_type": "fragment"
    }
   },
   "outputs": [],
   "source": [
    "cadastro = {'nome':'Fulano', 'sobrenome': 'Silva', 'idade':30, 'fumante':False}\n",
    "print(cadastro)"
   ]
  },
  {
   "cell_type": "code",
   "execution_count": null,
   "metadata": {
    "scrolled": true,
    "slideshow": {
     "slide_type": "fragment"
    }
   },
   "outputs": [],
   "source": [
    "cadastro['idade']"
   ]
  },
  {
   "cell_type": "markdown",
   "metadata": {
    "slideshow": {
     "slide_type": "slide"
    }
   },
   "source": [
    "#### 8.2.1 Exemplo: Raio de Schwarzschild"
   ]
  },
  {
   "cell_type": "markdown",
   "metadata": {
    "slideshow": {
     "slide_type": "fragment"
    }
   },
   "source": [
    "Usaremos um dicionário para calcular o raio de Schwarzscild associado a diferentes massas"
   ]
  },
  {
   "cell_type": "code",
   "execution_count": null,
   "metadata": {
    "scrolled": true,
    "slideshow": {
     "slide_type": "subslide"
    }
   },
   "outputs": [],
   "source": [
    "massa_sol = var('massa_sol', latex_name=r'{M}_\\odot')\n",
    "massa_terra = var('massa_terra', latex_name=r'{M}_\\oplus')\n",
    "seg = var('seg', latex_name=r'\\text{s}')\n",
    "metro = var('metro', latex_name=r'\\text{m}')\n",
    "kilog = var('kilog', latex_name=r'\\text{kg}')\n",
    "var('G c')\n",
    "constantes = {c:3e8*metro/seg, G:6.674e-11*metro**3/(kilog*seg**2),massa_sol:1.9897e30*kilog, massa_terra:5.9722e24*kilog}\n",
    "constantes"
   ]
  },
  {
   "cell_type": "code",
   "execution_count": null,
   "metadata": {
    "slideshow": {
     "slide_type": "subslide"
    }
   },
   "outputs": [],
   "source": [
    "constantes[G]"
   ]
  },
  {
   "cell_type": "markdown",
   "metadata": {
    "slideshow": {
     "slide_type": "fragment"
    }
   },
   "source": [
    "Raio de Schwarzschild"
   ]
  },
  {
   "cell_type": "code",
   "execution_count": null,
   "metadata": {
    "slideshow": {
     "slide_type": "fragment"
    }
   },
   "outputs": [],
   "source": [
    "var('M')\n",
    "R_s = 2*G*M/c**2\n",
    "R_s"
   ]
  },
  {
   "cell_type": "code",
   "execution_count": null,
   "metadata": {
    "slideshow": {
     "slide_type": "subslide"
    }
   },
   "outputs": [],
   "source": [
    "R_s.subs(M=massa_sol)"
   ]
  },
  {
   "cell_type": "code",
   "execution_count": null,
   "metadata": {
    "scrolled": true,
    "slideshow": {
     "slide_type": "fragment"
    }
   },
   "outputs": [],
   "source": [
    "R_s.subs(M=1e6*massa_sol).subs(constantes)"
   ]
  },
  {
   "cell_type": "markdown",
   "metadata": {
    "slideshow": {
     "slide_type": "slide"
    }
   },
   "source": [
    "### 9. Pacotes e módulos"
   ]
  },
  {
   "cell_type": "markdown",
   "metadata": {
    "slideshow": {
     "slide_type": "fragment"
    }
   },
   "source": [
    "Um módulo é um arquivo contendo código em Python. Pacotes são conjuntos de módulos.\n",
    "\n",
    "Usamos o comando `import` para importar módulos e pacotes. "
   ]
  },
  {
   "cell_type": "markdown",
   "metadata": {
    "slideshow": {
     "slide_type": "subslide"
    }
   },
   "source": [
    "Existem alguns pacotes dedicados a ferramentas científicas em Python, os mais populares são:\n",
    "\n",
    "* `NumPy` - para computação numérica\n",
    "* `sympy` - para cálculos simbólicos\n",
    "* `Matplotlib` - para gráficos\n",
    "\n",
    "**Ambos já fazem parte da biblioteca do SageMath.**"
   ]
  },
  {
   "cell_type": "code",
   "execution_count": null,
   "metadata": {
    "slideshow": {
     "slide_type": "slide"
    }
   },
   "outputs": [],
   "source": [
    "import numpy as np\n",
    "import matplotlib.pyplot as plt"
   ]
  },
  {
   "cell_type": "code",
   "execution_count": null,
   "metadata": {
    "slideshow": {
     "slide_type": "fragment"
    }
   },
   "outputs": [],
   "source": [
    "m_rand = np.random.randint(0,10,(7,7))\n",
    "print(m_rand)"
   ]
  },
  {
   "cell_type": "code",
   "execution_count": null,
   "metadata": {
    "scrolled": true,
    "slideshow": {
     "slide_type": "fragment"
    }
   },
   "outputs": [],
   "source": [
    "np.sinh(np.linspace(-2, 2, 2000))[:20]"
   ]
  },
  {
   "cell_type": "code",
   "execution_count": null,
   "metadata": {
    "slideshow": {
     "slide_type": "subslide"
    }
   },
   "outputs": [],
   "source": [
    "plt.plot(np.sinh(np.linspace(-2, 2, 2000)), color=\"green\")\n",
    "plt.show()"
   ]
  },
  {
   "cell_type": "markdown",
   "metadata": {
    "slideshow": {
     "slide_type": "slide"
    }
   },
   "source": [
    "## FIM"
   ]
  }
 ],
 "metadata": {
  "kernelspec": {
   "display_name": "SageMath 9.1",
   "language": "sage",
   "name": "sagemath"
  },
  "language_info": {
   "codemirror_mode": {
    "name": "ipython",
    "version": 3
   },
   "file_extension": ".py",
   "mimetype": "text/x-python",
   "name": "python",
   "nbconvert_exporter": "python",
   "pygments_lexer": "ipython3",
   "version": "3.7.3"
  },
  "rise": {
   "enable_chalkboard": true,
   "scroll": true,
   "start_slideshow_at": "beginning",
   "transition": "fade"
  }
 },
 "nbformat": 4,
 "nbformat_minor": 2
}
