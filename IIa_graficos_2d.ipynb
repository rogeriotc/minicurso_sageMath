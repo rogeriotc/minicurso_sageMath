{
 "cells": [
  {
   "cell_type": "markdown",
   "metadata": {
    "slideshow": {
     "slide_type": "slide"
    }
   },
   "source": [
    "# Uma breve introdução ao SageMath - parte II | 1\n",
    "***\n",
    "Rogério T. Cavalcanti"
   ]
  },
  {
   "cell_type": "code",
   "execution_count": null,
   "metadata": {
    "slideshow": {
     "slide_type": "skip"
    }
   },
   "outputs": [],
   "source": [
    "%display latex\n",
    "reset()"
   ]
  },
  {
   "cell_type": "markdown",
   "metadata": {
    "slideshow": {
     "slide_type": "slide"
    }
   },
   "source": [
    "##  Gráficos 2D"
   ]
  },
  {
   "cell_type": "markdown",
   "metadata": {
    "slideshow": {
     "slide_type": "fragment"
    }
   },
   "source": [
    "### 1. Gráficos de funções simbólicas"
   ]
  },
  {
   "cell_type": "code",
   "execution_count": null,
   "metadata": {
    "slideshow": {
     "slide_type": "subslide"
    }
   },
   "outputs": [],
   "source": [
    "plot(sin(x)/x, (x, -3*pi, 3*pi))"
   ]
  },
  {
   "cell_type": "code",
   "execution_count": null,
   "metadata": {
    "slideshow": {
     "slide_type": "subslide"
    }
   },
   "outputs": [],
   "source": [
    "plot(sin(5*x)/(5*x), (x, -3*pi, 3*pi), color='green', thickness=2,\\\n",
    "     axes_labels=[r\"$x$\", r\"$\\frac{\\sin(5x)}{5x}$\"])"
   ]
  },
  {
   "cell_type": "code",
   "execution_count": null,
   "metadata": {
    "slideshow": {
     "slide_type": "subslide"
    }
   },
   "outputs": [],
   "source": [
    "plot(x * sin(1/x), x, -2, 2,color=(.5,.2,.5),alpha=.3)"
   ]
  },
  {
   "cell_type": "markdown",
   "metadata": {
    "slideshow": {
     "slide_type": "slide"
    }
   },
   "source": [
    "### 2. Opções de argumentos"
   ]
  },
  {
   "cell_type": "markdown",
   "metadata": {
    "slideshow": {
     "slide_type": "fragment"
    }
   },
   "source": [
    "Algumas opções de argumento do comando `plot`:\n",
    "* `xmin` e `xmax`: intervalo do domínio (análogo com `ymin` e `ymax`);\n",
    "* `color`: cor do gráfico, seja um tupla RGB, uma string como `'blue'` ou uma cor HTML como `'#aaff0b'`;\n",
    "* `alpha`: transparência da linha;\n",
    "* `thickness`: grossura da linha;\n",
    "* `linestyle`: estilo da linha, pontilhada com ':', traço-pontilhada com '-.', tracejada '--' ou sólido padrão '-';\n",
    "* `detect_poles` (padrão`=False`): detecta polos se `=True` e desenhar uma assíntota vertical\n",
    "nos pólos se `='show'`;"
   ]
  },
  {
   "cell_type": "code",
   "execution_count": null,
   "metadata": {
    "slideshow": {
     "slide_type": "skip"
    }
   },
   "outputs": [],
   "source": [
    "gamma"
   ]
  },
  {
   "cell_type": "code",
   "execution_count": null,
   "metadata": {
    "slideshow": {
     "slide_type": "slide"
    }
   },
   "outputs": [],
   "source": [
    "plot(gamma, (-3, 4),ymin=-5, ymax=5,color='red', detect_poles='show')"
   ]
  },
  {
   "cell_type": "markdown",
   "metadata": {
    "slideshow": {
     "slide_type": "slide"
    }
   },
   "source": [
    "Para mais opções"
   ]
  },
  {
   "cell_type": "code",
   "execution_count": null,
   "metadata": {
    "slideshow": {
     "slide_type": "fragment"
    }
   },
   "outputs": [],
   "source": [
    "plot?"
   ]
  },
  {
   "cell_type": "markdown",
   "metadata": {
    "slideshow": {
     "slide_type": "slide"
    }
   },
   "source": [
    "Também é possível armazenar um gráfico em uma variável python "
   ]
  },
  {
   "cell_type": "code",
   "execution_count": null,
   "metadata": {
    "slideshow": {
     "slide_type": "fragment"
    }
   },
   "outputs": [],
   "source": [
    "g1 = plot(sin(x^2)/(x^2), (x,-4,4), color=(47/255,79/255,79/255), thickness=2, \\\n",
    "          axes_labels=[r\"$x$\", r\"$y$\"]);g1"
   ]
  },
  {
   "cell_type": "code",
   "execution_count": null,
   "metadata": {
    "slideshow": {
     "slide_type": "fragment"
    }
   },
   "outputs": [],
   "source": [
    "print(g1)"
   ]
  },
  {
   "cell_type": "code",
   "execution_count": null,
   "metadata": {
    "slideshow": {
     "slide_type": "subslide"
    }
   },
   "outputs": [],
   "source": [
    "g2 = plot(sin(3*x^2)/(3*x^2), (x,-4,4), color='red', linestyle='--',\n",
    "          thickness=2); g2"
   ]
  },
  {
   "cell_type": "markdown",
   "metadata": {
    "slideshow": {
     "slide_type": "slide"
    }
   },
   "source": [
    "Gráficos podem ser \"somados\""
   ]
  },
  {
   "cell_type": "code",
   "execution_count": null,
   "metadata": {
    "slideshow": {
     "slide_type": "fragment"
    }
   },
   "outputs": [],
   "source": [
    "g1+g2"
   ]
  },
  {
   "cell_type": "code",
   "execution_count": null,
   "metadata": {
    "slideshow": {
     "slide_type": "subslide"
    }
   },
   "outputs": [],
   "source": [
    "show(g1+g2, gridlines=True, title='Título', frame=True, axes=False)"
   ]
  },
  {
   "cell_type": "code",
   "execution_count": null,
   "metadata": {
    "slideshow": {
     "slide_type": "subslide"
    }
   },
   "outputs": [],
   "source": [
    "show(g1+g2, gridlines=True, aspect_ratio=1, title='Título',\n",
    "     frame=True, axes=False)"
   ]
  },
  {
   "cell_type": "markdown",
   "metadata": {
    "slideshow": {
     "slide_type": "slide"
    }
   },
   "source": [
    "O gráfico pode ser exportado em vários formatos (.pdf, .png, .ps, .eps, .svg e .sobj) usando o comando `save`:"
   ]
  },
  {
   "cell_type": "code",
   "execution_count": null,
   "metadata": {
    "slideshow": {
     "slide_type": "fragment"
    }
   },
   "outputs": [],
   "source": [
    "(g1+g2).save('plot_sage.pdf', gridlines=True, title='Título', frame=True, axes=False)"
   ]
  },
  {
   "cell_type": "markdown",
   "metadata": {
    "slideshow": {
     "slide_type": "slide"
    }
   },
   "source": [
    "### 3. Curvas parametrizadas"
   ]
  },
  {
   "cell_type": "code",
   "execution_count": null,
   "metadata": {
    "slideshow": {
     "slide_type": "slide"
    }
   },
   "outputs": [],
   "source": [
    "parametric_plot((x^2-1,x^3-x),(x,-1.2,1.2))"
   ]
  },
  {
   "cell_type": "code",
   "execution_count": null,
   "metadata": {
    "slideshow": {
     "slide_type": "slide"
    }
   },
   "outputs": [],
   "source": [
    "var('tau')\n",
    "X(tau) = (sinh(2*tau)/2+1,cosh(2*tau)/2+2); X(tau)"
   ]
  },
  {
   "cell_type": "code",
   "execution_count": null,
   "metadata": {
    "slideshow": {
     "slide_type": "subslide"
    }
   },
   "outputs": [],
   "source": [
    "pX = parametric_plot(X(tau),(tau,-1.3,1.3), color='black',frame=True, axes=False, \\\n",
    "                     axes_labels=[r\"$\\tau$\", r\"$x$\"]); pX"
   ]
  },
  {
   "cell_type": "code",
   "execution_count": null,
   "metadata": {
    "slideshow": {
     "slide_type": "subslide"
    }
   },
   "outputs": [],
   "source": [
    "line1 =line([(1,2), (4.5,5.5)], linestyle='--', color='black')\n",
    "line2 =line([(1,2), (-2.5,5.5)], linestyle='--', color='black')\n",
    "line1+line2"
   ]
  },
  {
   "cell_type": "code",
   "execution_count": null,
   "metadata": {
    "slideshow": {
     "slide_type": "subslide"
    }
   },
   "outputs": [],
   "source": [
    "line1+line2+pX"
   ]
  },
  {
   "cell_type": "code",
   "execution_count": null,
   "metadata": {
    "slideshow": {
     "slide_type": "slide"
    }
   },
   "outputs": [],
   "source": [
    "var('t x1 x2')\n",
    "x1 = cos(t) + cos(7*t)/2 + sin(17*t)/3\n",
    "x2 = sin(t) + sin(7*t)/2 + cos(17*t)/3\n",
    "g = parametric_plot((x1, x2), (t, 0, 2*pi))"
   ]
  },
  {
   "cell_type": "code",
   "execution_count": null,
   "metadata": {
    "slideshow": {
     "slide_type": "subslide"
    }
   },
   "outputs": [],
   "source": [
    "g.show(aspect_ratio=1)"
   ]
  },
  {
   "cell_type": "markdown",
   "metadata": {
    "slideshow": {
     "slide_type": "slide"
    }
   },
   "source": [
    "### 4. Coordenadas polares"
   ]
  },
  {
   "cell_type": "markdown",
   "metadata": {
    "slideshow": {
     "slide_type": "fragment"
    }
   },
   "source": [
    "Para curvas em coordenadas polares $f(\\theta)$, com $\\theta$ no intervalo\n",
    "$[a, b]$, usamos o comando `polar_plot(f(theta), (theta, a, b))`."
   ]
  },
  {
   "cell_type": "markdown",
   "metadata": {
    "slideshow": {
     "slide_type": "slide"
    }
   },
   "source": [
    "Elípse com excentricidade $\\epsilon$, semi-eixo maior $a$ e foco na origem."
   ]
  },
  {
   "cell_type": "code",
   "execution_count": null,
   "metadata": {
    "slideshow": {
     "slide_type": "fragment"
    }
   },
   "outputs": [],
   "source": [
    "th, ep, a = var('theta, epsilon, a')\n",
    "f = (1-ep^2)*a/(1+ep*cos(th));f"
   ]
  },
  {
   "cell_type": "code",
   "execution_count": null,
   "metadata": {
    "slideshow": {
     "slide_type": "subslide"
    }
   },
   "outputs": [],
   "source": [
    "polar_plot(f.subs(epsilon=6/7,a=2),(th,0,2*pi))"
   ]
  },
  {
   "cell_type": "markdown",
   "metadata": {
    "slideshow": {
     "slide_type": "slide"
    }
   },
   "source": [
    "Quando resolvemos perturbativamente as equações geodésicas para a solução de Schwarzschild obtivemos (eq. 18.27)\n",
    "$$u(\\phi)=1+\\epsilon \\cos(\\phi-3\\alpha^2\\phi)$$"
   ]
  },
  {
   "cell_type": "markdown",
   "metadata": {
    "slideshow": {
     "slide_type": "fragment"
    }
   },
   "source": [
    "Vejamos alguns gráficos dessa solução."
   ]
  },
  {
   "cell_type": "code",
   "execution_count": null,
   "metadata": {
    "slideshow": {
     "slide_type": "fragment"
    }
   },
   "outputs": [],
   "source": [
    "u = 1+ep*cos(t*th);u"
   ]
  },
  {
   "cell_type": "markdown",
   "metadata": {
    "slideshow": {
     "slide_type": "slide"
    }
   },
   "source": [
    "Podemos atribuir valor aos parâmetros usando o método `.subs(parâmetro=valor)`"
   ]
  },
  {
   "cell_type": "code",
   "execution_count": null,
   "metadata": {
    "slideshow": {
     "slide_type": "skip"
    }
   },
   "outputs": [],
   "source": [
    "polar_plot(u.subs(epsilon=1/10, t=20/19),(th,0,10*pi),plot_points=5000)"
   ]
  },
  {
   "cell_type": "code",
   "execution_count": null,
   "metadata": {
    "scrolled": false,
    "slideshow": {
     "slide_type": "fragment"
    }
   },
   "outputs": [],
   "source": [
    "polar_plot(u.subs(epsilon=1/4, t=20/19),(th,0,40*pi),plot_points=5000)"
   ]
  },
  {
   "cell_type": "code",
   "execution_count": null,
   "metadata": {
    "scrolled": false,
    "slideshow": {
     "slide_type": "subslide"
    }
   },
   "outputs": [],
   "source": [
    "polar_plot(u.subs(epsilon=2, t=20/19),(th,0,40*pi),plot_points=5000)"
   ]
  },
  {
   "cell_type": "code",
   "execution_count": null,
   "metadata": {
    "slideshow": {
     "slide_type": "skip"
    }
   },
   "outputs": [],
   "source": [
    "polar_plot(u.subs(epsilon=2/3, t=20/19),(th,0,50*pi),plot_points=5000)"
   ]
  },
  {
   "cell_type": "code",
   "execution_count": null,
   "metadata": {
    "slideshow": {
     "slide_type": "skip"
    }
   },
   "outputs": [],
   "source": [
    "polar_plot(u.subs(epsilon=1, t=20/19),(th,0,40*pi),plot_points=5000)"
   ]
  },
  {
   "cell_type": "code",
   "execution_count": null,
   "metadata": {
    "slideshow": {
     "slide_type": "skip"
    }
   },
   "outputs": [],
   "source": [
    "polar_plot(u.subs(epsilon=5, t=20/19),(th,0,40*pi),plot_points=5000)"
   ]
  },
  {
   "cell_type": "code",
   "execution_count": null,
   "metadata": {
    "slideshow": {
     "slide_type": "skip"
    }
   },
   "outputs": [],
   "source": [
    "polar_plot(u.subs(epsilon=20, t=20/19),(th,0,40*pi),plot_points=5000)"
   ]
  },
  {
   "cell_type": "code",
   "execution_count": null,
   "metadata": {
    "slideshow": {
     "slide_type": "skip"
    }
   },
   "outputs": [],
   "source": [
    "polar_plot(u.subs(epsilon=6/7, t=70/69),(th,0,4*pi),plot_points=5000)"
   ]
  },
  {
   "cell_type": "markdown",
   "metadata": {
    "slideshow": {
     "slide_type": "slide"
    }
   },
   "source": [
    "As óbitas são na verdade descritas por $r=\\frac{L}{\\alpha u}$."
   ]
  },
  {
   "cell_type": "markdown",
   "metadata": {
    "slideshow": {
     "slide_type": "fragment"
    }
   },
   "source": [
    "Podemos definir `r` a partir de `u` usando novamente o `.subs()`"
   ]
  },
  {
   "cell_type": "code",
   "execution_count": null,
   "metadata": {
    "slideshow": {
     "slide_type": "fragment"
    }
   },
   "outputs": [],
   "source": [
    "alp, L = var('alpha L')\n",
    "r=L/(alp*u.subs(t=1-3*alp**2));r"
   ]
  },
  {
   "cell_type": "markdown",
   "metadata": {
    "slideshow": {
     "slide_type": "subslide"
    }
   },
   "source": [
    "Substituindo $\\alpha = \\frac{GM}{L}$."
   ]
  },
  {
   "cell_type": "code",
   "execution_count": null,
   "metadata": {
    "slideshow": {
     "slide_type": "fragment"
    }
   },
   "outputs": [],
   "source": [
    "var('G M')\n",
    "r = r.subs(alpha = G*M/L);r"
   ]
  },
  {
   "cell_type": "markdown",
   "metadata": {
    "slideshow": {
     "slide_type": "fragment"
    }
   },
   "source": [
    "e a aproximação $L^2 \\approx (1-\\epsilon^2)GMa$."
   ]
  },
  {
   "cell_type": "code",
   "execution_count": null,
   "metadata": {
    "slideshow": {
     "slide_type": "fragment"
    }
   },
   "outputs": [],
   "source": [
    "r = r.subs(L=sqrt((1-ep**2)*G*M*a));r"
   ]
  },
  {
   "cell_type": "markdown",
   "metadata": {
    "slideshow": {
     "slide_type": "slide"
    }
   },
   "source": [
    "Podemos agora usar os dados astrofísicos envolvidos nas órbitas de Mercúrio e S2 e plotar em coordenadas polares."
   ]
  },
  {
   "cell_type": "markdown",
   "metadata": {
    "slideshow": {
     "slide_type": "fragment"
    }
   },
   "source": [
    "<div class=\"alert alert-block alert-danger\">\n",
    "<b>Desconsiderando os efeitos que não sejam puramente relativísticos.</b> \n",
    "</div>"
   ]
  },
  {
   "cell_type": "code",
   "execution_count": null,
   "metadata": {
    "slideshow": {
     "slide_type": "skip"
    }
   },
   "outputs": [],
   "source": [
    "6.67408e-11*(3e8)**-2 #G em unidades naturais"
   ]
  },
  {
   "cell_type": "markdown",
   "metadata": {
    "slideshow": {
     "slide_type": "fragment"
    }
   },
   "source": [
    "Para a órbita de Mercúro,\n",
    "* M = 1.98847 $\\times$ 10$^{30}$ kg (massa do sol);\n",
    "* a = 5.79 $\\times$ 10$^{10}$ m (semi-eixo maior); \n",
    "* $\\epsilon$ = $\\frac{257}{1250}$ (excentricidade);\n",
    "* G = 7.41564 $\\times$ 10$^{-28}$ m kg$^{-1}$ (G em unidades naturais)."
   ]
  },
  {
   "cell_type": "code",
   "execution_count": null,
   "metadata": {
    "scrolled": true,
    "slideshow": {
     "slide_type": "fragment"
    }
   },
   "outputs": [],
   "source": [
    "rM = r.subs(epsilon=257/1250, a=5.79e10, M=1.98847e30,G=7.41564444444444e-28)"
   ]
  },
  {
   "cell_type": "code",
   "execution_count": null,
   "metadata": {
    "slideshow": {
     "slide_type": "subslide"
    }
   },
   "outputs": [],
   "source": [
    "polar_plot(rM,(th,0,2*pi),plot_points=1000)"
   ]
  },
  {
   "cell_type": "markdown",
   "metadata": {
    "slideshow": {
     "slide_type": "slide"
    }
   },
   "source": [
    "Podemos criar um círculo para representar o sol, em escala."
   ]
  },
  {
   "cell_type": "code",
   "execution_count": null,
   "metadata": {
    "slideshow": {
     "slide_type": "fragment"
    }
   },
   "outputs": [],
   "source": [
    "sol = circle((0,0), 6.968e8, fill=True, rgbcolor='red')\n",
    "texto = text(\"Sol\",(1,1e10), fontsize=7, rgbcolor='black')\n",
    "seta = arrow((1,.8e10), (0,.1*1e1), width=1, arrowsize=1.5)"
   ]
  },
  {
   "cell_type": "markdown",
   "metadata": {
    "slideshow": {
     "slide_type": "subslide"
    }
   },
   "source": [
    "E plotar a órbita após 100 anos."
   ]
  },
  {
   "cell_type": "code",
   "execution_count": null,
   "metadata": {
    "slideshow": {
     "slide_type": "fragment"
    }
   },
   "outputs": [],
   "source": [
    "seta+texto+sol+polar_plot(rM,(th,0,1414.8*2*pi),axes=False,plot_points=1000)"
   ]
  },
  {
   "cell_type": "markdown",
   "metadata": {
    "slideshow": {
     "slide_type": "slide"
    }
   },
   "source": [
    "Para a órbita de S2,\n",
    "* M = 8.2601 $\\times$ 10$^{36}$ kg (massa do sol);\n",
    "* a = 1.45 $\\times$ 10$^{14}$ m (semi-eixo maior); \n",
    "* $\\epsilon$ = $\\frac{44233}{50000}$ (excentricidade);\n",
    "* G = 7.41564 $\\times$ 10$^{-29}$ m kg$^{-1}$ (G em unidades naturais)."
   ]
  },
  {
   "cell_type": "code",
   "execution_count": null,
   "metadata": {
    "slideshow": {
     "slide_type": "fragment"
    }
   },
   "outputs": [],
   "source": [
    "rS2 = r.subs(epsilon=44233/50000, a=1.45e14, M=8.2601e36,G=7.41564444444444e-29)"
   ]
  },
  {
   "cell_type": "code",
   "execution_count": null,
   "metadata": {
    "slideshow": {
     "slide_type": "subslide"
    }
   },
   "outputs": [],
   "source": [
    "polar_plot(rS2,(th,0,2*pi),plot_points=1000)"
   ]
  },
  {
   "cell_type": "markdown",
   "metadata": {
    "slideshow": {
     "slide_type": "subslide"
    }
   },
   "source": [
    "Após 50 órbitas..."
   ]
  },
  {
   "cell_type": "code",
   "execution_count": null,
   "metadata": {
    "slideshow": {
     "slide_type": "fragment"
    }
   },
   "outputs": [],
   "source": [
    "polar_plot(rS2,(th,0,50*2*pi),axes=False,plot_points=1000)"
   ]
  },
  {
   "cell_type": "code",
   "execution_count": null,
   "metadata": {
    "slideshow": {
     "slide_type": "skip"
    }
   },
   "outputs": [],
   "source": [
    "plot(u.subs(epsilon=1/2, t=20/19),(th,0,5*pi),plot_points=5000)"
   ]
  },
  {
   "cell_type": "markdown",
   "metadata": {
    "slideshow": {
     "slide_type": "slide"
    }
   },
   "source": [
    "Parece o contorno do shadow da solução de Kerr.."
   ]
  },
  {
   "cell_type": "code",
   "execution_count": null,
   "metadata": {
    "slideshow": {
     "slide_type": "fragment"
    }
   },
   "outputs": [],
   "source": [
    "polar_plot(1.91+cos(t), (t,0,2*pi))"
   ]
  },
  {
   "cell_type": "code",
   "execution_count": null,
   "metadata": {
    "slideshow": {
     "slide_type": "subslide"
    }
   },
   "outputs": [],
   "source": [
    "polar_plot([a+cos(t) for a in sxrange(0,2,.15)],(t,0,2*pi))"
   ]
  },
  {
   "cell_type": "markdown",
   "metadata": {
    "slideshow": {
     "slide_type": "slide"
    }
   },
   "source": [
    "### 5. Plotando dados"
   ]
  },
  {
   "cell_type": "markdown",
   "metadata": {
    "slideshow": {
     "slide_type": "fragment"
    }
   },
   "source": [
    "Podemos também plotar uma lista de pares ordenados na forma $(x_i,y_i)$"
   ]
  },
  {
   "cell_type": "code",
   "execution_count": null,
   "metadata": {
    "slideshow": {
     "slide_type": "fragment"
    }
   },
   "outputs": [],
   "source": [
    "grade=[(x,y) for x in range(6) for y in range(6)]; grade"
   ]
  },
  {
   "cell_type": "code",
   "execution_count": null,
   "metadata": {
    "slideshow": {
     "slide_type": "subslide"
    }
   },
   "outputs": [],
   "source": [
    "list_plot(grade)"
   ]
  },
  {
   "cell_type": "code",
   "execution_count": null,
   "metadata": {
    "slideshow": {
     "slide_type": "slide"
    }
   },
   "outputs": [],
   "source": [
    "pontos = [(x, sin(2*x)*cos(x)) for x in sxrange(0,20,.2)]"
   ]
  },
  {
   "cell_type": "code",
   "execution_count": null,
   "metadata": {
    "slideshow": {
     "slide_type": "fragment"
    }
   },
   "outputs": [],
   "source": [
    "pdados=list_plot(pontos);pdados"
   ]
  },
  {
   "cell_type": "code",
   "execution_count": null,
   "metadata": {
    "slideshow": {
     "slide_type": "subslide"
    }
   },
   "outputs": [],
   "source": [
    "ldados = line(pontos, color='red');ldados"
   ]
  },
  {
   "cell_type": "code",
   "execution_count": null,
   "metadata": {
    "slideshow": {
     "slide_type": "subslide"
    }
   },
   "outputs": [],
   "source": [
    "pdados+ldados"
   ]
  },
  {
   "cell_type": "markdown",
   "metadata": {
    "slideshow": {
     "slide_type": "slide"
    }
   },
   "source": [
    "Se os dados estão armazenados em um arquivo, podemos dar uma olhada no arquivo usando o comando `!cat`:"
   ]
  },
  {
   "cell_type": "code",
   "execution_count": null,
   "metadata": {
    "slideshow": {
     "slide_type": "fragment"
    }
   },
   "outputs": [],
   "source": [
    "!cat primes01.txt"
   ]
  },
  {
   "cell_type": "code",
   "execution_count": null,
   "metadata": {
    "slideshow": {
     "slide_type": "slide"
    }
   },
   "outputs": [],
   "source": [
    "dados = []  # lista vazia\n",
    "with open(\"primes01.txt\", \"r\") as dados_arquivo:# abre o arquivo em modo apenas leitura ('r') \n",
    "    dados_arquivo.readline()  # pula a primeira linha (geralmente legenda)\n",
    "    for linha in dados_arquivo:  # loop pelas linhas do arquivo \n",
    "        dados+=linha.split()\n",
    "dados[0:10]"
   ]
  },
  {
   "cell_type": "code",
   "execution_count": null,
   "metadata": {
    "slideshow": {
     "slide_type": "subslide"
    }
   },
   "outputs": [],
   "source": [
    "list_plot(dados)"
   ]
  },
  {
   "cell_type": "markdown",
   "metadata": {
    "slideshow": {
     "slide_type": "slide"
    }
   },
   "source": [
    "### 6. Resumo\n",
    "\n",
    "Tipo de gráfico | Sintáxe\n",
    ":--:|:--:\n",
    "Funções simbólicas | `plot(f(x),(x,min,max))`\n",
    "Exibir um ou mais | `show(gráfico, opções)`\n",
    "Curvas parametrizadas | `parametric_plot((u(theta),v(theta)), (theta,min,max)`\n",
    "Coordenadas polares | `polar_plot(f(theta),(theta,min,max))`\n",
    "Linhas retas | `line([(p0x,p0y),(p1x,p1y)])`\n",
    "Lista de pontos | `list_plot(lista)`"
   ]
  },
  {
   "cell_type": "markdown",
   "metadata": {
    "slideshow": {
     "slide_type": "slide"
    }
   },
   "source": [
    "# FIM\n",
    "***\n",
    "## da parte II | 1"
   ]
  }
 ],
 "metadata": {
  "kernelspec": {
   "display_name": "SageMath 9.1",
   "language": "sage",
   "name": "sagemath"
  },
  "language_info": {
   "codemirror_mode": {
    "name": "ipython",
    "version": 3
   },
   "file_extension": ".py",
   "mimetype": "text/x-python",
   "name": "python",
   "nbconvert_exporter": "python",
   "pygments_lexer": "ipython3",
   "version": "3.7.3"
  }
 },
 "nbformat": 4,
 "nbformat_minor": 2
}
